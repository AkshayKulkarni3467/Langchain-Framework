{
 "cells": [
  {
   "cell_type": "code",
   "execution_count": 1,
   "metadata": {},
   "outputs": [],
   "source": [
    "from langchain_core.output_parsers import StrOutputParser,ListOutputParser,JsonOutputParser,PydanticOutputParser"
   ]
  },
  {
   "cell_type": "code",
   "execution_count": 57,
   "metadata": {},
   "outputs": [],
   "source": [
    "from operator import itemgetter\n",
    "from langchain_groq import ChatGroq\n",
    "from langchain_community.document_loaders.recursive_url_loader import RecursiveUrlLoader\n",
    "from langchain.pydantic_v1 import BaseModel, Field,validator\n",
    "import os\n",
    "from bs4 import BeautifulSoup as Soup\n",
    "from langchain_core.runnables import RunnableLambda\n"
   ]
  },
  {
   "cell_type": "code",
   "execution_count": 4,
   "metadata": {},
   "outputs": [],
   "source": [
    "llm = ChatGroq(api_key=os.getenv(\"GROQ_API_KEY\"),model='mixtral-8x7B-32768')"
   ]
  },
  {
   "cell_type": "code",
   "execution_count": 5,
   "metadata": {},
   "outputs": [],
   "source": [
    "def extract_text(x):\n",
    "    return Soup(x,'html.parser').text"
   ]
  },
  {
   "cell_type": "code",
   "execution_count": 13,
   "metadata": {},
   "outputs": [],
   "source": [
    "url=\"https://developer.nytimes.com/docs/books-product/1/overview\"\n",
    "loader=RecursiveUrlLoader(\n",
    "    url=url,\n",
    "    max_depth=20,\n",
    "    extractor=extract_text\n",
    ")"
   ]
  },
  {
   "cell_type": "code",
   "execution_count": 14,
   "metadata": {},
   "outputs": [],
   "source": [
    "docs=loader.load()\n"
   ]
  },
  {
   "cell_type": "code",
   "execution_count": 25,
   "metadata": {},
   "outputs": [],
   "source": [
    "docs_sorted=sorted(docs,key=lambda x:x.metadata[\"source\"])\n",
    "docs_reversed=list(reversed(docs_sorted))\n",
    "\n"
   ]
  },
  {
   "cell_type": "code",
   "execution_count": 28,
   "metadata": {},
   "outputs": [
    {
     "data": {
      "text/plain": [
       "'https://neuro.georgetown.edu/about-neuroscience/'"
      ]
     },
     "execution_count": 28,
     "metadata": {},
     "output_type": "execute_result"
    }
   ],
   "source": [
    "docs[0].metadata['source']"
   ]
  },
  {
   "cell_type": "code",
   "execution_count": 29,
   "metadata": {},
   "outputs": [],
   "source": [
    "#Concatenate page_content of each sorted dictionary\n",
    "concatenated_content=\"\\n\\n\\n----\\n\\n\\n\".join([doc.page_content for doc in docs_reversed])\n",
    "\n"
   ]
  },
  {
   "cell_type": "code",
   "execution_count": 32,
   "metadata": {},
   "outputs": [],
   "source": [
    "from langchain_core.prompts.prompt import PromptTemplate"
   ]
  },
  {
   "cell_type": "code",
   "execution_count": 52,
   "metadata": {},
   "outputs": [],
   "source": [
    "\n",
    "class code(BaseModel):\n",
    "    \"\"\" Code Output \"\"\"\n",
    "    answer: str = Field(description='Returned answers')\n",
    "\n",
    "\n",
    "parser=PydanticOutputParser(pydantic_object=code)\n",
    "template=\"\"\"\n",
    "You are an expert reader who provides answers after reading some content.\\n\n",
    "{format_instructions}\n",
    "Here is the content:\n",
    "\\n---------\\n\n",
    "{context}\n",
    "\\n---------\\n\n",
    "Answer the questions based on above content.\\n\n",
    "Here is the user question :\\n\n",
    "--- --- --- --- \\n\n",
    "{question}\n",
    "\"\"\""
   ]
  },
  {
   "cell_type": "code",
   "execution_count": 61,
   "metadata": {},
   "outputs": [],
   "source": [
    "prompt=PromptTemplate(\n",
    "    template=template,\n",
    "    input_variables=[\"context\",\"question\"],\n",
    "    partial_variables={\"format_instructions\": parser.get_format_instructions()},\n",
    ")\n",
    "chain={\n",
    "        \"context\":RunnableLambda(lambda x:concatenated_content), #should be runnables\n",
    "        \"question\":RunnableLambda(itemgetter(\"question\")),\n",
    "    }|prompt|llm |parser\n",
    "\n",
    "\n",
    "response = chain.invoke({\n",
    "    \"question\":\"what is neuroinformatics\"\n",
    "})"
   ]
  }
 ],
 "metadata": {
  "kernelspec": {
   "display_name": "nlp",
   "language": "python",
   "name": "python3"
  },
  "language_info": {
   "codemirror_mode": {
    "name": "ipython",
    "version": 3
   },
   "file_extension": ".py",
   "mimetype": "text/x-python",
   "name": "python",
   "nbconvert_exporter": "python",
   "pygments_lexer": "ipython3",
   "version": "3.11.9"
  },
  "orig_nbformat": 4
 },
 "nbformat": 4,
 "nbformat_minor": 2
}
