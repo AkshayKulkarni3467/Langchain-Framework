{
 "cells": [
  {
   "cell_type": "code",
   "execution_count": 2,
   "metadata": {},
   "outputs": [],
   "source": [
    "from langchain.memory import ConversationSummaryBufferMemory\n",
    "from langchain_groq import ChatGroq\n",
    "import os"
   ]
  },
  {
   "cell_type": "code",
   "execution_count": 3,
   "metadata": {},
   "outputs": [],
   "source": [
    "llm = ChatGroq(api_key=os.getenv(\"GROQ_API_KEY\"),model='mixtral-8x7B-32768')"
   ]
  },
  {
   "cell_type": "code",
   "execution_count": 4,
   "metadata": {},
   "outputs": [],
   "source": [
    "memory = ConversationSummaryBufferMemory(llm=llm, max_token_limit=100)\n"
   ]
  },
  {
   "cell_type": "code",
   "execution_count": 14,
   "metadata": {},
   "outputs": [],
   "source": [
    "from langchain.chains import ConversationChain\n",
    "\n",
    "conversation_with_summary = ConversationChain(\n",
    "    llm=llm,\n",
    "    # We set a very low max_token_limit for the purposes of testing.\n",
    "    memory=ConversationSummaryBufferMemory(llm=llm, max_token_limit=100),\n",
    "    verbose=True,\n",
    ")"
   ]
  },
  {
   "cell_type": "code",
   "execution_count": 15,
   "metadata": {},
   "outputs": [
    {
     "name": "stdout",
     "output_type": "stream",
     "text": [
      "\n",
      "\n",
      "\u001b[1m> Entering new ConversationChain chain...\u001b[0m\n",
      "Prompt after formatting:\n",
      "\u001b[32;1m\u001b[1;3mThe following is a friendly conversation between a human and an AI. The AI is talkative and provides lots of specific details from its context. If the AI does not know the answer to a question, it truthfully says it does not know.\n",
      "\n",
      "Current conversation:\n",
      "\n",
      "Human: hello my name is akshay\n",
      "AI:\u001b[0m\n",
      "\n",
      "\u001b[1m> Finished chain.\u001b[0m\n"
     ]
    },
    {
     "data": {
      "text/plain": [
       "{'input': 'hello my name is akshay',\n",
       " 'history': '',\n",
       " 'response': 'Hello Akshay, nice to meet you! I\\'m an AI assistant, here to help answer any questions you might have or provide information on a wide variety of topics. How can I assist you today? By the way, did you know that the name Akshay is of Sanskrit origin, meaning \"immortal\" or \"imperishable\"? It\\'s a unisex name, and in Hinduism, there is a god named Akshay, who is the god of truth and righteousness. Is there any specific topic you\\'d like to discuss related to your name, or is there something else on your mind? 😊'}"
      ]
     },
     "execution_count": 15,
     "metadata": {},
     "output_type": "execute_result"
    }
   ],
   "source": [
    "conversation_with_summary('hello my name is akshay')"
   ]
  },
  {
   "cell_type": "code",
   "execution_count": 16,
   "metadata": {},
   "outputs": [
    {
     "name": "stdout",
     "output_type": "stream",
     "text": [
      "\n",
      "\n",
      "\u001b[1m> Entering new ConversationChain chain...\u001b[0m\n",
      "Prompt after formatting:\n",
      "\u001b[32;1m\u001b[1;3mThe following is a friendly conversation between a human and an AI. The AI is talkative and provides lots of specific details from its context. If the AI does not know the answer to a question, it truthfully says it does not know.\n",
      "\n",
      "Current conversation:\n",
      "System: The human, named Akshay, greets the AI. The AI responds with a greeting, introduces itself as an AI assistant, and offers to help Akshay. The AI also shares some information about Akshay's name, including its Sanskrit origin, meaning, and the Hindu god with the same name. The AI then asks Akshay if he would like to discuss a specific topic related to his name or if he has any other questions or topics in mind.\n",
      "Human: ohh thank you for telling me about my name. Can you tell me about openai\n",
      "AI:\u001b[0m\n",
      "\n",
      "\u001b[1m> Finished chain.\u001b[0m\n"
     ]
    },
    {
     "data": {
      "text/plain": [
       "{'input': 'ohh thank you for telling me about my name. Can you tell me about openai',\n",
       " 'history': \"System: The human, named Akshay, greets the AI. The AI responds with a greeting, introduces itself as an AI assistant, and offers to help Akshay. The AI also shares some information about Akshay's name, including its Sanskrit origin, meaning, and the Hindu god with the same name. The AI then asks Akshay if he would like to discuss a specific topic related to his name or if he has any other questions or topics in mind.\",\n",
       " 'response': \"Of course, I'd be happy to tell you about OpenAI! OpenAI is a research organization dedicated to promoting and developing friendly AI in a way that benefits humanity as a whole. It was founded in 2015 by several notable individuals, including Elon Musk, Sam Altman, and Greg Brockman.\\n\\nOpenAI is known for its work in areas such as natural language processing, reinforcement learning, and computer vision. They have released a number of influential AI models and tools, such as GPT-3, a large language model that can generate human-like text, and DALL-E, an AI system that can create images from textual descriptions.\\n\\nOpenAI is also committed to ensuring that AI is developed in a safe and ethical manner. They have established a set of principles to guide their work, including a commitment to transparency, collaboration, and the safe and ethical use of AI.\\n\\nOne interesting fact about OpenAI is that it is a capped for-profit company, which means that it can raise and spend money like a for-profit company, but it caps the amount of money that it can return to investors. This allows OpenAI to focus on its mission of promoting beneficial AI, rather than maximizing profits.\\n\\nI hope that gives you a good overview of OpenAI! If you have any specific questions about the organization or its work, I'd be happy to try and answer them.\"}"
      ]
     },
     "execution_count": 16,
     "metadata": {},
     "output_type": "execute_result"
    }
   ],
   "source": [
    "conversation_with_summary('ohh thank you for telling me about my name. Can you tell me about openai')"
   ]
  },
  {
   "cell_type": "code",
   "execution_count": 17,
   "metadata": {},
   "outputs": [
    {
     "name": "stdout",
     "output_type": "stream",
     "text": [
      "\n",
      "\n",
      "\u001b[1m> Entering new ConversationChain chain...\u001b[0m\n",
      "Prompt after formatting:\n",
      "\u001b[32;1m\u001b[1;3mThe following is a friendly conversation between a human and an AI. The AI is talkative and provides lots of specific details from its context. If the AI does not know the answer to a question, it truthfully says it does not know.\n",
      "\n",
      "Current conversation:\n",
      "System: The human, named Akshay, greets the AI and the AI responds with a greeting, introducing itself as an AI assistant, and offers to help Akshay. The AI shares some information about Akshay's name, including its Sanskrit origin, meaning, and the Hindu god with the same name. The AI then asks Akshay if he would like to discuss a specific topic related to his name or if he has any other questions or topics in mind. Akshay asks about OpenAI, and the AI provides an overview of OpenAI, a research organization dedicated to promoting and developing friendly AI. OpenAI was founded in 2015 by several notable individuals, including Elon Musk, Sam Altman, and Greg Brockman. OpenAI is known for its work in areas such as natural language processing, reinforcement learning, and computer vision, and have released influential AI models and tools, such as GPT-3 and DALL-E. OpenAI is committed to ensuring that AI is developed in a safe and ethical manner, and is a capped for-profit company, which allows it to focus on its mission of promoting beneficial AI rather than maximizing profits.\n",
      "Human: who is the founder of that company\n",
      "AI:\u001b[0m\n",
      "\n",
      "\u001b[1m> Finished chain.\u001b[0m\n"
     ]
    },
    {
     "data": {
      "text/plain": [
       "{'input': 'who is the founder of that company',\n",
       " 'history': \"System: The human, named Akshay, greets the AI and the AI responds with a greeting, introducing itself as an AI assistant, and offers to help Akshay. The AI shares some information about Akshay's name, including its Sanskrit origin, meaning, and the Hindu god with the same name. The AI then asks Akshay if he would like to discuss a specific topic related to his name or if he has any other questions or topics in mind. Akshay asks about OpenAI, and the AI provides an overview of OpenAI, a research organization dedicated to promoting and developing friendly AI. OpenAI was founded in 2015 by several notable individuals, including Elon Musk, Sam Altman, and Greg Brockman. OpenAI is known for its work in areas such as natural language processing, reinforcement learning, and computer vision, and have released influential AI models and tools, such as GPT-3 and DALL-E. OpenAI is committed to ensuring that AI is developed in a safe and ethical manner, and is a capped for-profit company, which allows it to focus on its mission of promoting beneficial AI rather than maximizing profits.\",\n",
       " 'response': 'OpenAI was founded by several notable individuals, including Elon Musk, Sam Altman, and Greg Brockman. Elon Musk is the CEO of SpaceX and Tesla, Inc., and is known for his work in the fields of clean energy and space exploration. Sam Altman is the former president of Y Combinator, a well-known startup accelerator, and is also a renowned investor and entrepreneur. Greg Brockman is a technology executive and entrepreneur who has served as the CTO of Stripe and the co-founder of OpenAI. These three individuals, along with several others, came together to form OpenAI with the goal of promoting and developing friendly AI that benefits all of humanity.'}"
      ]
     },
     "execution_count": 17,
     "metadata": {},
     "output_type": "execute_result"
    }
   ],
   "source": [
    "conversation_with_summary('who is the founder of that company')"
   ]
  },
  {
   "cell_type": "code",
   "execution_count": 18,
   "metadata": {},
   "outputs": [
    {
     "name": "stdout",
     "output_type": "stream",
     "text": [
      "\n",
      "\n",
      "\u001b[1m> Entering new ConversationChain chain...\u001b[0m\n",
      "Prompt after formatting:\n",
      "\u001b[32;1m\u001b[1;3mThe following is a friendly conversation between a human and an AI. The AI is talkative and provides lots of specific details from its context. If the AI does not know the answer to a question, it truthfully says it does not know.\n",
      "\n",
      "Current conversation:\n",
      "System: The human, named Akshay, greets the AI and the AI responds with a greeting, introducing itself as an AI assistant, and offers to help Akshay. The AI shares some information about Akshay's name, including its Sanskrit origin, meaning, and the Hindu god with the same name. The AI then asks Akshay if he would like to discuss a specific topic related to his name or if he has any other questions or topics in mind. Akshay asks about OpenAI, and the AI provides an overview of OpenAI, a research organization dedicated to promoting and developing friendly AI. OpenAI was founded in 2015 by several notable individuals, including Elon Musk, Sam Altman, and Greg Brockman, who came together with the goal of promoting and developing friendly AI that benefits all of humanity. Elon Musk is the CEO of SpaceX and Tesla, Inc., and is known for his work in the fields of clean energy and space exploration. Sam Altman is the former president of Y Combinator, a well-known startup accelerator, and is also a renowned investor and entrepreneur. Greg Brockman is a technology executive and entrepreneur who has served as the CTO of Stripe and the co-founder of OpenAI.\n",
      "Human: who is elon musk? i havent heard about him\n",
      "AI:\u001b[0m\n",
      "\n",
      "\u001b[1m> Finished chain.\u001b[0m\n"
     ]
    },
    {
     "data": {
      "text/plain": [
       "{'input': 'who is elon musk? i havent heard about him',\n",
       " 'history': \"System: The human, named Akshay, greets the AI and the AI responds with a greeting, introducing itself as an AI assistant, and offers to help Akshay. The AI shares some information about Akshay's name, including its Sanskrit origin, meaning, and the Hindu god with the same name. The AI then asks Akshay if he would like to discuss a specific topic related to his name or if he has any other questions or topics in mind. Akshay asks about OpenAI, and the AI provides an overview of OpenAI, a research organization dedicated to promoting and developing friendly AI. OpenAI was founded in 2015 by several notable individuals, including Elon Musk, Sam Altman, and Greg Brockman, who came together with the goal of promoting and developing friendly AI that benefits all of humanity. Elon Musk is the CEO of SpaceX and Tesla, Inc., and is known for his work in the fields of clean energy and space exploration. Sam Altman is the former president of Y Combinator, a well-known startup accelerator, and is also a renowned investor and entrepreneur. Greg Brockman is a technology executive and entrepreneur who has served as the CTO of Stripe and the co-founder of OpenAI.\",\n",
       " 'response': \"Elon Musk is a business magnate, industrial designer, and engineer. He is the CEO and CTO of SpaceX, CEO of Neuralink, and founder of The Boring Company. He was also the CEO of Tesla, Inc., until he resigned from the position in 2018, but he remains the company's product architect and a member of its board of directors.\\n\\nMusk was born in South Africa and later became a citizen of the United States. He co-founded PayPal, an online payments company, and sold it to eBay in 2002 for $1.5 billion. He then used the proceeds from the sale to found SpaceX, with the goal of reducing space transportation costs and enabling the colonization of Mars.\\n\\nMusk is known for his ambitious and visionary approach to business and technology. He has been recognized as one of the most influential people in the world by numerous publications, including Time magazine and Forbes. In addition to his work in the fields of clean energy and space exploration, Musk has also made significant contributions to the development of electric vehicles and artificial intelligence.\"}"
      ]
     },
     "execution_count": 18,
     "metadata": {},
     "output_type": "execute_result"
    }
   ],
   "source": [
    "conversation_with_summary('who is elon musk? i havent heard about him')"
   ]
  },
  {
   "cell_type": "code",
   "execution_count": 19,
   "metadata": {},
   "outputs": [
    {
     "name": "stdout",
     "output_type": "stream",
     "text": [
      "\n",
      "\n",
      "\u001b[1m> Entering new ConversationChain chain...\u001b[0m\n",
      "Prompt after formatting:\n",
      "\u001b[32;1m\u001b[1;3mThe following is a friendly conversation between a human and an AI. The AI is talkative and provides lots of specific details from its context. If the AI does not know the answer to a question, it truthfully says it does not know.\n",
      "\n",
      "Current conversation:\n",
      "System: The human, named Akshay, greets the AI and the AI responds with a greeting, introducing itself as an AI assistant, and offers to help Akshay. The AI shares some information about Akshay's name, including its Sanskrit origin, meaning, and the Hindu god with the same name. The AI then asks Akshay if he would like to discuss a specific topic related to his name or if he has any other questions or topics in mind. Akshay asks about OpenAI, and the AI provides an overview of OpenAI, a research organization dedicated to promoting and developing friendly AI. OpenAI was founded in 2015 by several notable individuals, including Elon Musk, Sam Altman, and Greg Brockman, who came together with the goal of promoting and developing friendly AI that benefits all of humanity. Akshay asks who Elon Musk is, and the AI explains that Musk is a business magnate, industrial designer, and engineer who is known for his work in the fields of clean energy and space exploration, among others. Musk was born in South Africa and co-founded PayPal before selling it to eBay and using the proceeds to found SpaceX. He is also known for his ambitious and visionary approach to business and technology and has been recognized as one of the most influential people in the world by numerous publications.\n",
      "Human: when was he born\n",
      "AI:\u001b[0m\n",
      "\n",
      "\u001b[1m> Finished chain.\u001b[0m\n"
     ]
    },
    {
     "data": {
      "text/plain": [
       "{'input': 'when was he born',\n",
       " 'history': \"System: The human, named Akshay, greets the AI and the AI responds with a greeting, introducing itself as an AI assistant, and offers to help Akshay. The AI shares some information about Akshay's name, including its Sanskrit origin, meaning, and the Hindu god with the same name. The AI then asks Akshay if he would like to discuss a specific topic related to his name or if he has any other questions or topics in mind. Akshay asks about OpenAI, and the AI provides an overview of OpenAI, a research organization dedicated to promoting and developing friendly AI. OpenAI was founded in 2015 by several notable individuals, including Elon Musk, Sam Altman, and Greg Brockman, who came together with the goal of promoting and developing friendly AI that benefits all of humanity. Akshay asks who Elon Musk is, and the AI explains that Musk is a business magnate, industrial designer, and engineer who is known for his work in the fields of clean energy and space exploration, among others. Musk was born in South Africa and co-founded PayPal before selling it to eBay and using the proceeds to found SpaceX. He is also known for his ambitious and visionary approach to business and technology and has been recognized as one of the most influential people in the world by numerous publications.\",\n",
       " 'response': 'Elon Musk was born on June 28, 1971, in Pretoria, South Africa. He is currently 50 years old. Musk has had a remarkable career, founding or co-founding several successful companies, including PayPal, SpaceX, Tesla, Neuralink, and The Boring Company, and making significant contributions to various industries. His work has had a significant impact on the world, and he continues to be a prominent figure in the fields of technology and business.'}"
      ]
     },
     "execution_count": 19,
     "metadata": {},
     "output_type": "execute_result"
    }
   ],
   "source": [
    "conversation_with_summary('when was he born')"
   ]
  },
  {
   "cell_type": "code",
   "execution_count": 20,
   "metadata": {},
   "outputs": [
    {
     "name": "stdout",
     "output_type": "stream",
     "text": [
      "\n",
      "\n",
      "\u001b[1m> Entering new ConversationChain chain...\u001b[0m\n",
      "Prompt after formatting:\n",
      "\u001b[32;1m\u001b[1;3mThe following is a friendly conversation between a human and an AI. The AI is talkative and provides lots of specific details from its context. If the AI does not know the answer to a question, it truthfully says it does not know.\n",
      "\n",
      "Current conversation:\n",
      "System: The human, named Akshay, greets the AI and the AI responds with a greeting, introducing itself as an AI assistant, and offers to help Akshay. The AI shares some information about Akshay's name, including its Sanskrit origin, meaning, and the Hindu god with the same name. The AI then asks Akshay if he would like to discuss a specific topic related to his name or if he has any other questions or topics in mind. Akshay asks about OpenAI, and the AI provides an overview of OpenAI, a research organization dedicated to promoting and developing friendly AI. OpenAI was founded in 2015 by several notable individuals, including Elon Musk, Sam Altman, and Greg Brockman, who came together with the goal of promoting and developing friendly AI that benefits all of humanity. Akshay asks who Elon Musk is, and the AI explains that Musk is a business magnate, industrial designer, and engineer who is known for his work in the fields of clean energy and space exploration, among others. Musk was born in South Africa and co-founded PayPal before selling it to eBay and using the proceeds to found SpaceX. He is also known for his ambitious and visionary approach to business and technology and has been recognized as one of the most influential people in the world by numerous publications.\n",
      "Human: when was he born\n",
      "AI: Elon Musk was born on June 28, 1971, in Pretoria, South Africa. He is currently 50 years old. Musk has had a remarkable career, founding or co-founding several successful companies, including PayPal, SpaceX, Tesla, Neuralink, and The Boring Company, and making significant contributions to various industries. His work has had a significant impact on the world, and he continues to be a prominent figure in the fields of technology and business.\n",
      "Human: how well is the company doing that i mentioned before\n",
      "AI:\u001b[0m\n",
      "\n",
      "\u001b[1m> Finished chain.\u001b[0m\n"
     ]
    },
    {
     "data": {
      "text/plain": [
       "{'input': 'how well is the company doing that i mentioned before',\n",
       " 'history': \"System: The human, named Akshay, greets the AI and the AI responds with a greeting, introducing itself as an AI assistant, and offers to help Akshay. The AI shares some information about Akshay's name, including its Sanskrit origin, meaning, and the Hindu god with the same name. The AI then asks Akshay if he would like to discuss a specific topic related to his name or if he has any other questions or topics in mind. Akshay asks about OpenAI, and the AI provides an overview of OpenAI, a research organization dedicated to promoting and developing friendly AI. OpenAI was founded in 2015 by several notable individuals, including Elon Musk, Sam Altman, and Greg Brockman, who came together with the goal of promoting and developing friendly AI that benefits all of humanity. Akshay asks who Elon Musk is, and the AI explains that Musk is a business magnate, industrial designer, and engineer who is known for his work in the fields of clean energy and space exploration, among others. Musk was born in South Africa and co-founded PayPal before selling it to eBay and using the proceeds to found SpaceX. He is also known for his ambitious and visionary approach to business and technology and has been recognized as one of the most influential people in the world by numerous publications.\\nHuman: when was he born\\nAI: Elon Musk was born on June 28, 1971, in Pretoria, South Africa. He is currently 50 years old. Musk has had a remarkable career, founding or co-founding several successful companies, including PayPal, SpaceX, Tesla, Neuralink, and The Boring Company, and making significant contributions to various industries. His work has had a significant impact on the world, and he continues to be a prominent figure in the fields of technology and business.\",\n",
       " 'response': 'It seems that you are referring to OpenAI, the research organization dedicated to promoting and developing friendly AI that benefits all of humanity. OpenAI has been making significant progress in the field of artificial intelligence. They have developed several state-of-the-art AI models, including the GPT-3 language model, which is capable of generating highly realistic and coherent text. Additionally, OpenAI has been working on developing AI systems that can learn and adapt to new environments and tasks, and has been actively involved in the development of ethical guidelines for AI research and development.\\n\\nOpenAI has also been receiving strong support from the industry and has secured significant funding from various sources. In 2019, Microsoft invested $1 billion in OpenAI, becoming its exclusive cloud provider and partner in commercializing its AI technologies. This partnership has helped OpenAI to scale its operations and accelerate its research efforts.\\n\\nOverall, OpenAI is considered to be one of the leading organizations in the field of AI research and development, and its work is having a significant impact on the industry and society as a whole.'}"
      ]
     },
     "execution_count": 20,
     "metadata": {},
     "output_type": "execute_result"
    }
   ],
   "source": [
    "conversation_with_summary('how well is the company doing that i mentioned before')"
   ]
  }
 ],
 "metadata": {
  "kernelspec": {
   "display_name": "nlp",
   "language": "python",
   "name": "python3"
  },
  "language_info": {
   "codemirror_mode": {
    "name": "ipython",
    "version": 3
   },
   "file_extension": ".py",
   "mimetype": "text/x-python",
   "name": "python",
   "nbconvert_exporter": "python",
   "pygments_lexer": "ipython3",
   "version": "3.11.9"
  },
  "orig_nbformat": 4
 },
 "nbformat": 4,
 "nbformat_minor": 2
}
