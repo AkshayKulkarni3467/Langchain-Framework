{
 "cells": [
  {
   "cell_type": "code",
   "execution_count": 1,
   "metadata": {},
   "outputs": [],
   "source": [
    "from langchain_core.tools import tool\n",
    "from langchain_groq import ChatGroq\n",
    "import os"
   ]
  },
  {
   "cell_type": "code",
   "execution_count": 12,
   "metadata": {},
   "outputs": [],
   "source": [
    "llm = ChatGroq(api_key=os.getenv('GROQ_API_KEY'),model='mixtral-8x7B-32768',max_tokens='500')"
   ]
  },
  {
   "cell_type": "code",
   "execution_count": 6,
   "metadata": {},
   "outputs": [],
   "source": [
    "from langchain_community.tools.google_trends.tool import GoogleTrendsQueryRun,GoogleTrendsAPIWrapper\n",
    "from langchain_google_community import GoogleSearchRun,GoogleSearchAPIWrapper,GoogleSearchResults\n",
    "from langchain_community.tools.google_finance.tool import GoogleFinanceQueryRun,GoogleFinanceAPIWrapper\n",
    "from langchain_community.tools.google_serper.tool import GoogleSerperResults,GoogleSerperRun,GoogleSerperAPIWrapper\n",
    "from langchain_community.tools.google_lens.tool import GoogleLensQueryRun,GoogleLensAPIWrapper\n",
    "from langchain_community.tools import (GmailSearch,\n",
    "                                       GmailGetMessage,\n",
    "                                       RequestsGetTool,\n",
    "                                       RequestsPostTool,\n",
    "                                       RedditSearchRun,\n",
    "                                       SearchAPIResults,\n",
    "                                       SearchAPIRun,\n",
    "                                       SleepTool,\n",
    "                                       WikipediaQueryRun,\n",
    "                                       WolframAlphaQueryRun,\n",
    "                                       YahooFinanceNewsTool,\n",
    "                                       YouTubeSearchTool)\n",
    "from langchain_community.tools.memorize.tool import Memorize\n",
    "from langchain_community.utilities import RequestsWrapper,SearchApiAPIWrapper,WikipediaAPIWrapper\n",
    "from langchain_community.utilities.reddit_search import RedditSearchAPIWrapper\n",
    "from langchain_community.utilities.wolfram_alpha import WolframAlphaAPIWrapper\n",
    "from langchain_core.tools import BaseTool,BaseModel,Field,convert_runnable_to_tool\n",
    "from dotenv import load_dotenv"
   ]
  },
  {
   "cell_type": "code",
   "execution_count": 7,
   "metadata": {},
   "outputs": [
    {
     "data": {
      "text/plain": [
       "True"
      ]
     },
     "execution_count": 7,
     "metadata": {},
     "output_type": "execute_result"
    }
   ],
   "source": [
    "load_dotenv()"
   ]
  },
  {
   "cell_type": "code",
   "execution_count": 27,
   "metadata": {},
   "outputs": [],
   "source": [
    "api_wrapper = GoogleTrendsAPIWrapper(serp_api_key=os.environ['SERP_API_KEY'])\n",
    "\n",
    "class TrendsSearchInputs(BaseModel):\n",
    "    \"\"\"Inputs to the google trends search.\"\"\"\n",
    "\n",
    "    query: str = Field(\n",
    "        description=\"query to look up in google trends\"\n",
    "    )\n",
    "    \n",
    "search_trends_tool = GoogleTrendsQueryRun(\n",
    "    name=\"search-trends-tool\",\n",
    "    description=\"look up trends on google\",\n",
    "    args_schema=TrendsSearchInputs,\n",
    "    api_wrapper=api_wrapper,\n",
    "    return_direct=True,\n",
    ")"
   ]
  },
  {
   "cell_type": "code",
   "execution_count": 29,
   "metadata": {},
   "outputs": [
    {
     "name": "stdout",
     "output_type": "stream",
     "text": [
      "search-trends-tool {'query': {'title': 'Query', 'description': 'query to look up in google trends', 'type': 'string'}} True\n"
     ]
    }
   ],
   "source": [
    "print(search_trends_tool.name,search_trends_tool.args,search_trends_tool.return_direct)"
   ]
  },
  {
   "cell_type": "code",
   "execution_count": 49,
   "metadata": {},
   "outputs": [],
   "source": [
    "response = search_trends_tool.run(\"langchain\")\n",
    "\n"
   ]
  },
  {
   "cell_type": "code",
   "execution_count": 50,
   "metadata": {},
   "outputs": [
    {
     "name": "stdout",
     "output_type": "stream",
     "text": [
      "Query: langchain\n",
      "Date From: Aug 6, 2023\n",
      "Date To: Aug 10, 2024\n",
      "Min Value: 48\n",
      "Max Value: 100\n",
      "Average Value: 76.60377358490567\n",
      "Percent Change: 26.08695652173913%\n",
      "Trend values: 69, 59, 63, 61, 60, 60, 58, 59, 62, 68, 62, 64, 63, 65, 63, 61, 61, 65, 64, 60, 48, 59, 70, 70, 71, 83, 78, 82, 91, 86, 87, 92, 91, 88, 88, 93, 97, 100, 89, 84, 97, 93, 91, 92, 92, 86, 87, 81, 86, 88, 96, 90, 87\n",
      "Rising Related Queries: langchain gemini, langchain lcel, autogen, langchain llama3, ollama langchain, langchain groq, groq, crewai, ollama, langchain_openai, langchain_community, autogen vs langchain, dspy, runnablepassthrough, langgraph, langchain4j, lcel, langchain mistral, rag langchain, rag, langchain chatchat, vllm, rag with langchain, rag llm, langchain invoke\n",
      "Top Related Queries: langchain python, python, llm langchain, llm, langchain openai, openai, langchain ai, rag langchain, agent langchain, rag, langchain api, langchain github, github, langchain prompt, langchain chat, langchain chain, langchain llama, llama, what is langchain, langchain pdf, langchain example, langchain install, langchain azure, langchain document, langchain embeddings\n"
     ]
    }
   ],
   "source": [
    "print(response)"
   ]
  },
  {
   "cell_type": "code",
   "execution_count": 80,
   "metadata": {},
   "outputs": [],
   "source": [
    "api_wrapper = GoogleSearchAPIWrapper(google_api_key=os.environ['GOOGLE_SEARCH_API_KEY'],google_cse_id=os.environ['GOOGLE_CSE_ID'])\n",
    "class GoogleSearchInputs(BaseModel):\n",
    "    \"\"\"Inputs to the google search.\"\"\"\n",
    "\n",
    "    query: str = Field(\n",
    "        description=\"query to look up in google search\"\n",
    "    )\n",
    "    \n",
    "search_tool = GoogleSearchRun(\n",
    "    name=\"search-tool\",\n",
    "    description=\"look up on google\",\n",
    "    args_schema=GoogleSearchInputs,\n",
    "    api_wrapper=api_wrapper,\n",
    "    return_direct=True,\n",
    ")"
   ]
  },
  {
   "cell_type": "code",
   "execution_count": 81,
   "metadata": {},
   "outputs": [],
   "source": [
    "response = search_tool.run(\"tell me about the runaway of bangladesh prime minister\")"
   ]
  },
  {
   "cell_type": "code",
   "execution_count": 82,
   "metadata": {},
   "outputs": [
    {
     "name": "stdout",
     "output_type": "stream",
     "text": [
      "May 3, 2024 ... Bangladesh's PM resigns and flees country as protesters … · UK prime minister convenes emergency meeting to end … · Protests toppled Bangladesh's ... Sep 11, 2018 ... ... runaway climate change. ... People celebrate the resignation of Bangladeshi Prime Minister Sheikh Hasina in Dhaka, Bangladesh [Mohammad ... Jul 1, 2024 ... The Decatur Police Department has located a runaway teen who was last seen on Saturday ... 1 hour ago. FILE- Former Bangladeshi Prime Minister ... Jul 17, 2024 ... ... prime minister convenes emergency meeting to end … Oliver Coppard ... Bangladesh's government and drove … People help a man, who was ... Feb 25, 2024 ... Runaway Indian train travels 70km without driver · Read more India stories from the BBC: · Euphoria in Bangladesh after PM Sheikh Hasina flees ... May 29, 2024 ... People carry furniture from the Ganabhaban, the Prime Minister's residence in Dhaka · Business · Browse Business · Aerospace & Defense · Autos ... Mar 12, 2024 ... Over 600 fentanyl pills seized in Salt Lake City … Bangladeshi PM Sheikh Hasina resigns as widening … FILE- Bangladesh's Prime Minister ... Jul 5, 2024 ... runaway. 16-year-old Emma Caldwell was last seen at her home on ... Bangladesh … FILE- Former Bangladeshi Prime Minister Khaleda Zia ... May 19, 2021 ... ... runaway spread of the virus as the daily death toll rose to a ... Bangladesh Prime Minister Sheikh Hasina has resigned and left the ... 6 days ago ... Sheikh Hasina came back from tragedy to lead Bangladesh … A protester throws a rubber tire on fire during a protest against Prime Minister ...\n"
     ]
    }
   ],
   "source": [
    "print(response)"
   ]
  },
  {
   "cell_type": "code",
   "execution_count": 12,
   "metadata": {},
   "outputs": [],
   "source": [
    "api_wrapper = WolframAlphaAPIWrapper(wolfram_alpha_appid=os.environ['WOLFRAM_ALPHA_APPID'])\n"
   ]
  },
  {
   "cell_type": "code",
   "execution_count": null,
   "metadata": {},
   "outputs": [],
   "source": [
    "import asyncio\n",
    "\n",
    "async def test():\n",
    "    api_wrapper.run(\"What is 2x+5 = -3x + 7?\")\n",
    "    \n",
    "asyncio.run(test())\n"
   ]
  },
  {
   "cell_type": "code",
   "execution_count": 31,
   "metadata": {},
   "outputs": [],
   "source": [
    "finance_tool = YahooFinanceNewsTool(top_k=10)\n",
    "response = finance_tool.run('AAPL')"
   ]
  },
  {
   "cell_type": "code",
   "execution_count": 32,
   "metadata": {},
   "outputs": [
    {
     "name": "stdout",
     "output_type": "stream",
     "text": [
      "Buffett Cuts Apple Stake: What Should You Do With AAPL Stock?\n",
      "Apple's (AAPL) AI push, growing Services business and strong liquidity position make the shares attractive for investors despite Warren Buffett reducing his stake by 50%.\n"
     ]
    }
   ],
   "source": [
    "print(response)"
   ]
  }
 ],
 "metadata": {
  "kernelspec": {
   "display_name": "nlp",
   "language": "python",
   "name": "python3"
  },
  "language_info": {
   "codemirror_mode": {
    "name": "ipython",
    "version": 3
   },
   "file_extension": ".py",
   "mimetype": "text/x-python",
   "name": "python",
   "nbconvert_exporter": "python",
   "pygments_lexer": "ipython3",
   "version": "3.11.9"
  },
  "orig_nbformat": 4
 },
 "nbformat": 4,
 "nbformat_minor": 2
}
