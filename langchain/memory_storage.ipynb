{
 "cells": [
  {
   "cell_type": "code",
   "execution_count": 1,
   "metadata": {},
   "outputs": [],
   "source": [
    "from langchain_core.chat_history import (\n",
    "    BaseChatMessageHistory,\n",
    "    InMemoryChatMessageHistory\n",
    ")\n",
    "from langchain_core.runnables.history import RunnableWithMessageHistory\n"
   ]
  },
  {
   "cell_type": "code",
   "execution_count": 2,
   "metadata": {},
   "outputs": [],
   "source": [
    "store = {}"
   ]
  },
  {
   "cell_type": "code",
   "execution_count": 3,
   "metadata": {},
   "outputs": [],
   "source": [
    "def get_session_history(session_id: str)-> BaseChatMessageHistory:\n",
    "    if session_id not in store:\n",
    "        store[session_id] = InMemoryChatMessageHistory()\n",
    "    return store[session_id]"
   ]
  },
  {
   "cell_type": "code",
   "execution_count": 3,
   "metadata": {},
   "outputs": [],
   "source": [
    "from langchain_groq import ChatGroq\n",
    "import os\n",
    "\n",
    "model = ChatGroq(api_key=os.getenv('GROQ_API_KEY'),model='mixtral-8x7B-32768')"
   ]
  },
  {
   "cell_type": "code",
   "execution_count": 140,
   "metadata": {},
   "outputs": [],
   "source": [
    "from langchain_core.messages import SystemMessage,HumanMessage\n",
    "response = model.invoke([\n",
    "    SystemMessage(content='You are a calculator and you only return a single number in output'),\n",
    "    HumanMessage(content=('What is (5 plus 7)'))])"
   ]
  },
  {
   "cell_type": "code",
   "execution_count": 141,
   "metadata": {},
   "outputs": [
    {
     "name": "stdout",
     "output_type": "stream",
     "text": [
      "content='12' response_metadata={'token_usage': {'completion_tokens': 4, 'prompt_tokens': 31, 'total_tokens': 35, 'completion_time': 0.00625, 'prompt_time': 0.002980294, 'queue_time': None, 'total_time': 0.009230294}, 'model_name': 'mixtral-8x7B-32768', 'system_fingerprint': 'fp_c5f20b5bb1', 'finish_reason': 'stop', 'logprobs': None} id='run-921e7e86-d84b-4f0c-a441-e7eb4464a3e6-0' usage_metadata={'input_tokens': 31, 'output_tokens': 4, 'total_tokens': 35}\n"
     ]
    }
   ],
   "source": [
    "print(response)"
   ]
  },
  {
   "cell_type": "code",
   "execution_count": 5,
   "metadata": {},
   "outputs": [],
   "source": [
    "with_message_history = RunnableWithMessageHistory(model,get_session_history)"
   ]
  },
  {
   "cell_type": "code",
   "execution_count": 6,
   "metadata": {},
   "outputs": [],
   "source": [
    "config = {'configurable':{'session_id':'abc2'}}"
   ]
  },
  {
   "cell_type": "code",
   "execution_count": 13,
   "metadata": {},
   "outputs": [
    {
     "name": "stdout",
     "output_type": "stream",
     "text": [
      "{'1': InMemoryHistory(messages=[AIMessage(content='hello')])}\n"
     ]
    }
   ],
   "source": [
    "from typing import List\n",
    "\n",
    "\n",
    "from langchain_core.chat_history import BaseChatMessageHistory\n",
    "from langchain_core.messages import BaseMessage, AIMessage\n",
    "from langchain_core.pydantic_v1 import BaseModel, Field\n",
    "\n",
    "\n",
    "\n",
    "class InMemoryHistory(BaseChatMessageHistory, BaseModel):\n",
    "    \"\"\"In memory implementation of chat message history.\"\"\"\n",
    "\n",
    "    messages: List[BaseMessage] = Field(default_factory=list)\n",
    "\n",
    "    def add_messages(self, messages: List[BaseMessage]) -> None:\n",
    "        \"\"\"Add a list of messages to the store\"\"\"\n",
    "        self.messages.extend(messages)\n",
    "\n",
    "    def clear(self) -> None:\n",
    "        self.messages = []\n",
    "\n",
    "# Here we use a global variable to store the chat message history.\n",
    "# This will make it easier to inspect it to see the underlying results.\n",
    "store = {}\n",
    "\n",
    "def get_by_session_id(session_id: str) -> BaseChatMessageHistory:\n",
    "    if session_id not in store:\n",
    "        store[session_id] = InMemoryHistory()\n",
    "    return store[session_id]\n",
    "\n",
    "\n",
    "history = get_by_session_id(\"1\")\n",
    "history.add_message(AIMessage(content=\"hello\"))\n",
    "print(store)  # noqa: T201"
   ]
  },
  {
   "cell_type": "code",
   "execution_count": 15,
   "metadata": {},
   "outputs": [],
   "source": [
    "history.add_message(AIMessage(content='hello im akshay'))"
   ]
  },
  {
   "cell_type": "code",
   "execution_count": 17,
   "metadata": {},
   "outputs": [],
   "source": [
    "from langchain_core.prompts import MessagesPlaceholder,ChatPromptTemplate\n",
    "from langchain_core.runnables.history import RunnableWithMessageHistory"
   ]
  },
  {
   "cell_type": "code",
   "execution_count": 19,
   "metadata": {},
   "outputs": [],
   "source": [
    "prompt = ChatPromptTemplate.from_messages([\n",
    "    (\"system\", \"You're an assistant who's good at {ability}\"),\n",
    "    MessagesPlaceholder(variable_name=\"history\"),\n",
    "    (\"human\", \"{question}\"),\n",
    "])"
   ]
  },
  {
   "cell_type": "code",
   "execution_count": 20,
   "metadata": {},
   "outputs": [],
   "source": [
    "chain = prompt | model"
   ]
  },
  {
   "cell_type": "code",
   "execution_count": 21,
   "metadata": {},
   "outputs": [],
   "source": [
    "chain_with_history = RunnableWithMessageHistory(\n",
    "    chain,\n",
    "    get_by_session_id,\n",
    "    input_messages_key='question',\n",
    "    history_messages_key='history'\n",
    ")"
   ]
  },
  {
   "cell_type": "code",
   "execution_count": 22,
   "metadata": {},
   "outputs": [
    {
     "name": "stdout",
     "output_type": "stream",
     "text": [
      "content='The cosine function, often abbreviated as cos, is a fundamental concept in trigonometry, a branch of mathematics that deals with the relationships between the angles and sides of triangles. The cosine of an angle in a right triangle is defined as the length of the adjacent side divided by the length of the hypotenuse.\\n\\nIn the context of a unit circle (a circle with a radius of 1), the cosine of an angle is the x-coordinate of the point on the circle that corresponds to the angle.\\n\\nCosine is a periodic function, meaning that it repeats its values in regular intervals. The period of the cosine function is 2π (or 360 degrees), which means that the values of cosine repeat every 2π radians (or 360 degrees).\\n\\nThe cosine function is often used in various applications, including physics, engineering, computer graphics, and many other fields, to model periodic phenomena or to solve problems involving right triangles.' response_metadata={'token_usage': {'completion_tokens': 219, 'prompt_tokens': 26, 'total_tokens': 245, 'completion_time': 0.353705985, 'prompt_time': 0.002581588, 'queue_time': None, 'total_time': 0.356287573}, 'model_name': 'mixtral-8x7B-32768', 'system_fingerprint': 'fp_c5f20b5bb1', 'finish_reason': 'stop', 'logprobs': None} id='run-f3192ad3-e525-4d41-9ae0-ae5eea8e6709-0' usage_metadata={'input_tokens': 26, 'output_tokens': 219, 'total_tokens': 245}\n"
     ]
    }
   ],
   "source": [
    "print(chain_with_history.invoke(\n",
    "    {'ability':'math','question':'What does cosine mean?'},\n",
    "    config = {'configurable':{'session_id':'foo'}}\n",
    "))"
   ]
  },
  {
   "cell_type": "code",
   "execution_count": 131,
   "metadata": {},
   "outputs": [
    {
     "name": "stdout",
     "output_type": "stream",
     "text": [
      "{'1': InMemoryHistory(messages=[AIMessage(content='hello'), AIMessage(content='hello im akshay'), AIMessage(content='hello im akshay')]), 'foo': InMemoryHistory(messages=[HumanMessage(content='What does cosine mean?'), AIMessage(content='The cosine function, often abbreviated as cos, is a fundamental concept in trigonometry, a branch of mathematics that deals with the relationships between the angles and sides of triangles. The cosine of an angle in a right triangle is defined as the length of the adjacent side divided by the length of the hypotenuse.\\n\\nIn the context of a unit circle (a circle with a radius of 1), the cosine of an angle is the x-coordinate of the point on the circle that corresponds to the angle.\\n\\nCosine is a periodic function, meaning that it repeats its values in regular intervals. The period of the cosine function is 2π (or 360 degrees), which means that the values of cosine repeat every 2π radians (or 360 degrees).\\n\\nThe cosine function is often used in various applications, including physics, engineering, computer graphics, and many other fields, to model periodic phenomena or to solve problems involving right triangles.', response_metadata={'token_usage': {'completion_tokens': 219, 'prompt_tokens': 26, 'total_tokens': 245, 'completion_time': 0.353705985, 'prompt_time': 0.002581588, 'queue_time': None, 'total_time': 0.356287573}, 'model_name': 'mixtral-8x7B-32768', 'system_fingerprint': 'fp_c5f20b5bb1', 'finish_reason': 'stop', 'logprobs': None}, id='run-f3192ad3-e525-4d41-9ae0-ae5eea8e6709-0', usage_metadata={'input_tokens': 26, 'output_tokens': 219, 'total_tokens': 245}), HumanMessage(content=\"What's its inverse\"), AIMessage(content='The inverse of the cosine function, often denoted as arccos or cos^-1, is a function that takes a value between -1 and 1 and returns the angle for which the cosine is that value. In other words, if you input a number x between -1 and 1 into the arccos function, it will output the angle θ such that cos(θ) = x.\\n\\nThe arccos function is defined for all real numbers x such that -1 ≤ x ≤ 1, and its output is an angle in radians. The output of the arccos function is always between 0 and π radians (or 180 degrees and 360 degrees, respectively) for real values of x.\\n\\nIt is important to note that the inverse cosine function is a many-to-one function, meaning that there are multiple angles that have the same cosine value. For example, both 0 and 2π radians have a cosine value of 1. To avoid ambiguity, most calculators and software assume that the output of the arccos function is the angle in the range of 0 to π radians (or 180 degrees to 360 degrees) when the input is a real number between -1 and 1.\\n\\nIn summary, the inverse cosine function, denoted as arccos or cos^-1, is a function that takes a value between -1 and 1 and returns the angle for which the cosine is that value. It is a many-to-one function, and its output is typically assumed to be in the range of 0 to π radians (or 180 degrees to 360 degrees) for real values of x.', response_metadata={'token_usage': {'completion_tokens': 376, 'prompt_tokens': 259, 'total_tokens': 635, 'completion_time': 0.606197793, 'prompt_time': 0.01562358, 'queue_time': None, 'total_time': 0.621821373}, 'model_name': 'mixtral-8x7B-32768', 'system_fingerprint': 'fp_c5f20b5bb1', 'finish_reason': 'stop', 'logprobs': None}, id='run-5f47ffc7-5b1d-4f66-b207-bc1b0b904534-0', usage_metadata={'input_tokens': 259, 'output_tokens': 376, 'total_tokens': 635})])}\n"
     ]
    }
   ],
   "source": [
    "print(store)"
   ]
  },
  {
   "cell_type": "code",
   "execution_count": 24,
   "metadata": {},
   "outputs": [
    {
     "name": "stdout",
     "output_type": "stream",
     "text": [
      "content='The inverse of the cosine function, often denoted as arccos or cos^-1, is a function that takes a value between -1 and 1 and returns the angle for which the cosine is that value. In other words, if you input a number x between -1 and 1 into the arccos function, it will output the angle θ such that cos(θ) = x.\\n\\nThe arccos function is defined for all real numbers x such that -1 ≤ x ≤ 1, and its output is an angle in radians. The output of the arccos function is always between 0 and π radians (or 180 degrees and 360 degrees, respectively) for real values of x.\\n\\nIt is important to note that the inverse cosine function is a many-to-one function, meaning that there are multiple angles that have the same cosine value. For example, both 0 and 2π radians have a cosine value of 1. To avoid ambiguity, most calculators and software assume that the output of the arccos function is the angle in the range of 0 to π radians (or 180 degrees to 360 degrees) when the input is a real number between -1 and 1.\\n\\nIn summary, the inverse cosine function, denoted as arccos or cos^-1, is a function that takes a value between -1 and 1 and returns the angle for which the cosine is that value. It is a many-to-one function, and its output is typically assumed to be in the range of 0 to π radians (or 180 degrees to 360 degrees) for real values of x.' response_metadata={'token_usage': {'completion_tokens': 376, 'prompt_tokens': 259, 'total_tokens': 635, 'completion_time': 0.606197793, 'prompt_time': 0.01562358, 'queue_time': None, 'total_time': 0.621821373}, 'model_name': 'mixtral-8x7B-32768', 'system_fingerprint': 'fp_c5f20b5bb1', 'finish_reason': 'stop', 'logprobs': None} id='run-5f47ffc7-5b1d-4f66-b207-bc1b0b904534-0' usage_metadata={'input_tokens': 259, 'output_tokens': 376, 'total_tokens': 635}\n"
     ]
    }
   ],
   "source": [
    "print(chain_with_history.invoke(  # noqa: T201\n",
    "    {\"ability\": \"math\", \"question\": \"What's its inverse\"},\n",
    "    config={\"configurable\": {\"session_id\": \"foo\"}}\n",
    "))\n"
   ]
  },
  {
   "cell_type": "code",
   "execution_count": 132,
   "metadata": {},
   "outputs": [
    {
     "name": "stdout",
     "output_type": "stream",
     "text": [
      "{'1': InMemoryHistory(messages=[AIMessage(content='hello'), AIMessage(content='hello im akshay'), AIMessage(content='hello im akshay')]), 'foo': InMemoryHistory(messages=[HumanMessage(content='What does cosine mean?'), AIMessage(content='The cosine function, often abbreviated as cos, is a fundamental concept in trigonometry, a branch of mathematics that deals with the relationships between the angles and sides of triangles. The cosine of an angle in a right triangle is defined as the length of the adjacent side divided by the length of the hypotenuse.\\n\\nIn the context of a unit circle (a circle with a radius of 1), the cosine of an angle is the x-coordinate of the point on the circle that corresponds to the angle.\\n\\nCosine is a periodic function, meaning that it repeats its values in regular intervals. The period of the cosine function is 2π (or 360 degrees), which means that the values of cosine repeat every 2π radians (or 360 degrees).\\n\\nThe cosine function is often used in various applications, including physics, engineering, computer graphics, and many other fields, to model periodic phenomena or to solve problems involving right triangles.', response_metadata={'token_usage': {'completion_tokens': 219, 'prompt_tokens': 26, 'total_tokens': 245, 'completion_time': 0.353705985, 'prompt_time': 0.002581588, 'queue_time': None, 'total_time': 0.356287573}, 'model_name': 'mixtral-8x7B-32768', 'system_fingerprint': 'fp_c5f20b5bb1', 'finish_reason': 'stop', 'logprobs': None}, id='run-f3192ad3-e525-4d41-9ae0-ae5eea8e6709-0', usage_metadata={'input_tokens': 26, 'output_tokens': 219, 'total_tokens': 245}), HumanMessage(content=\"What's its inverse\"), AIMessage(content='The inverse of the cosine function, often denoted as arccos or cos^-1, is a function that takes a value between -1 and 1 and returns the angle for which the cosine is that value. In other words, if you input a number x between -1 and 1 into the arccos function, it will output the angle θ such that cos(θ) = x.\\n\\nThe arccos function is defined for all real numbers x such that -1 ≤ x ≤ 1, and its output is an angle in radians. The output of the arccos function is always between 0 and π radians (or 180 degrees and 360 degrees, respectively) for real values of x.\\n\\nIt is important to note that the inverse cosine function is a many-to-one function, meaning that there are multiple angles that have the same cosine value. For example, both 0 and 2π radians have a cosine value of 1. To avoid ambiguity, most calculators and software assume that the output of the arccos function is the angle in the range of 0 to π radians (or 180 degrees to 360 degrees) when the input is a real number between -1 and 1.\\n\\nIn summary, the inverse cosine function, denoted as arccos or cos^-1, is a function that takes a value between -1 and 1 and returns the angle for which the cosine is that value. It is a many-to-one function, and its output is typically assumed to be in the range of 0 to π radians (or 180 degrees to 360 degrees) for real values of x.', response_metadata={'token_usage': {'completion_tokens': 376, 'prompt_tokens': 259, 'total_tokens': 635, 'completion_time': 0.606197793, 'prompt_time': 0.01562358, 'queue_time': None, 'total_time': 0.621821373}, 'model_name': 'mixtral-8x7B-32768', 'system_fingerprint': 'fp_c5f20b5bb1', 'finish_reason': 'stop', 'logprobs': None}, id='run-5f47ffc7-5b1d-4f66-b207-bc1b0b904534-0', usage_metadata={'input_tokens': 259, 'output_tokens': 376, 'total_tokens': 635})])}\n"
     ]
    }
   ],
   "source": [
    "print(store)"
   ]
  },
  {
   "cell_type": "code",
   "execution_count": 1,
   "metadata": {},
   "outputs": [],
   "source": [
    "from langchain_core.chat_history import (\n",
    "    BaseChatMessageHistory,\n",
    "    InMemoryChatMessageHistory\n",
    ")\n",
    "from langchain_core.runnables.history import RunnableWithMessageHistory"
   ]
  },
  {
   "cell_type": "code",
   "execution_count": 4,
   "metadata": {},
   "outputs": [],
   "source": [
    "store = {}\n",
    "def get_session_history(session_id: str)->BaseChatMessageHistory:\n",
    "    if session_id not in store:\n",
    "        store[session_id] = InMemoryChatMessageHistory()\n",
    "    return store[session_id]\n",
    "\n",
    "\n",
    "with_message_history = RunnableWithMessageHistory(model,get_session_history)"
   ]
  }
 ],
 "metadata": {
  "kernelspec": {
   "display_name": "nlp",
   "language": "python",
   "name": "python3"
  },
  "language_info": {
   "codemirror_mode": {
    "name": "ipython",
    "version": 3
   },
   "file_extension": ".py",
   "mimetype": "text/x-python",
   "name": "python",
   "nbconvert_exporter": "python",
   "pygments_lexer": "ipython3",
   "version": "3.11.9"
  },
  "orig_nbformat": 4
 },
 "nbformat": 4,
 "nbformat_minor": 2
}
