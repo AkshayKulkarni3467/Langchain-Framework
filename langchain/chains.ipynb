{
 "cells": [
  {
   "cell_type": "code",
   "execution_count": 27,
   "metadata": {},
   "outputs": [],
   "source": [
    "from langchain.chains import APIChain\n",
    "from bs4 import BeautifulSoup as Soup\n",
    "from langchain_community.document_loaders import FireCrawlLoader\n"
   ]
  },
  {
   "cell_type": "code",
   "execution_count": 79,
   "metadata": {},
   "outputs": [],
   "source": [
    "from langchain_groq import ChatGroq\n",
    "from langchain_openai import ChatOpenAI"
   ]
  },
  {
   "cell_type": "code",
   "execution_count": 42,
   "metadata": {},
   "outputs": [],
   "source": [
    "import os"
   ]
  },
  {
   "cell_type": "code",
   "execution_count": 150,
   "metadata": {},
   "outputs": [],
   "source": [
    "llm = ChatGroq(model='mixtral-8x7B-32768',api_key=os.getenv('GROQ_API_KEY'))\n",
    "# llm = ChatOpenAI(model='gpt-3.5-turbo',api_key=os.getenv('OPENAI_API_KEY'))"
   ]
  },
  {
   "cell_type": "code",
   "execution_count": 33,
   "metadata": {},
   "outputs": [],
   "source": [
    "loader = FireCrawlLoader(\n",
    "    api_key=os.getenv('FIRECRAWL_API_KEY'), url=\"https://developer.nytimes.com/docs/books-product/overview\", mode=\"scrape\"\n",
    ")"
   ]
  },
  {
   "cell_type": "code",
   "execution_count": 35,
   "metadata": {},
   "outputs": [],
   "source": [
    "docs = loader.load()"
   ]
  },
  {
   "cell_type": "code",
   "execution_count": 40,
   "metadata": {},
   "outputs": [],
   "source": [
    "api_docs = docs[0].page_content"
   ]
  },
  {
   "cell_type": "code",
   "execution_count": 107,
   "metadata": {},
   "outputs": [],
   "source": [
    "chain = APIChain.from_llm_and_api_docs(llm=llm,api_docs=api_docs,limit_to_domains=None,verbose=True)"
   ]
  },
  {
   "cell_type": "code",
   "execution_count": 110,
   "metadata": {},
   "outputs": [],
   "source": [
    "question = 'give me the list of books written by richard dawkins.Dont forget to include their publication date and summary.Your api key is {}'.format('9HeqmbZqQObfQsw0NHn66ppKB4enZOpi')"
   ]
  },
  {
   "cell_type": "code",
   "execution_count": 111,
   "metadata": {},
   "outputs": [
    {
     "name": "stdout",
     "output_type": "stream",
     "text": [
      "\n",
      "\n",
      "\u001b[1m> Entering new APIChain chain...\u001b[0m\n",
      "\u001b[32;1m\u001b[1;3mhttps://api.nytimes.com/svc/books/v3/reviews.json?author=Richard+Dawkins&api-key=9HeqmbZqQObfQsw0NHn66ppKB4enZOpi\u001b[0m\n",
      "\u001b[33;1m\u001b[1;3m{\"status\":\"OK\",\"copyright\":\"Copyright (c) 2024 The New York Times Company.  All Rights Reserved.\",\"num_results\":7,\"results\":[{\"url\":\"http:\\/\\/www.nytimes.com\\/2003\\/10\\/05\\/books\\/books-in-brief-nonfiction-431303.html\",\"publication_dt\":\"2003-10-05\",\"byline\":\"CHRISTINE KENNEALLY\",\"book_title\":\"Devil's Chaplain : Reflections on Hope, Lies, Science, and Love\",\"book_author\":\"Richard Dawkins\",\"summary\":\"\",\"uuid\":\"00000000-0000-0000-0000-000000000000\",\"uri\":\"nyt:\\/\\/book\\/00000000-0000-0000-0000-000000000000\",\"isbn13\":[\"9780618335404\"]},{\"url\":\"http:\\/\\/www.nytimes.com\\/2013\\/09\\/19\\/books\\/richard-dawkinss-appetite-for-wonder-a-memoir.html\",\"publication_dt\":\"2013-09-19\",\"byline\":\"JANET MASLIN\",\"book_title\":\"An Appetite for Wonder\",\"book_author\":\"Richard Dawkins\",\"summary\":\"In \\u201cAn Appetite for Wonder,\\u201d the evolutionary biologist Richard Dawkins looks back at his childhood in Africa and the roots of his interest in how animals act.\",\"uuid\":\"00000000-0000-0000-0000-000000000000\",\"uri\":\"nyt:\\/\\/book\\/00000000-0000-0000-0000-000000000000\",\"isbn13\":[\"9780062225795\",\"9780062225801\",\"9780062225818\"]},{\"url\":\"http:\\/\\/www.nytimes.com\\/2006\\/10\\/22\\/books\\/review\\/Holt.t.html\",\"publication_dt\":\"2006-10-22\",\"byline\":\"JIM HOLT\",\"book_title\":\"The God Delusion\",\"book_author\":\"Richard Dawkins\",\"summary\":\"In training his Darwinian guns on religion, Richard Dawkins risks destroying a larger target than he intends.\",\"uuid\":\"00000000-0000-0000-0000-000000000000\",\"uri\":\"nyt:\\/\\/book\\/00000000-0000-0000-0000-000000000000\",\"isbn13\":[\"9780618918249\"]},{\"url\":\"http:\\/\\/www.nytimes.com\\/1986\\/12\\/14\\/books\\/we-are-all-contraptions.html\",\"publication_dt\":\"1986-12-14\",\"byline\":\"MICHAEL T. GHISELIN\",\"book_title\":\"Blind Watchmaker Why the Evidence\",\"book_author\":\"Richard Dawkins\",\"summary\":\"\",\"uuid\":\"00000000-0000-0000-0000-000000000000\",\"uri\":\"nyt:\\/\\/book\\/00000000-0000-0000-0000-000000000000\",\"isbn13\":[\"9780393022162\",\"9780393304480\"]},{\"url\":\"http:\\/\\/www.nytimes.com\\/1999\\/01\\/10\\/books\\/frauds-fakes-phonies.html\",\"publication_dt\":\"1999-01-10\",\"byline\":\"TIMOTHY FERRIS\",\"book_title\":\"Unweaving the Rainbow: Science, Delusion and the Appetite for Wonder\",\"book_author\":\"Richard Dawkins\",\"summary\":\"\",\"uuid\":\"00000000-0000-0000-0000-000000000000\",\"uri\":\"nyt:\\/\\/book\\/00000000-0000-0000-0000-000000000000\",\"isbn13\":[\"9780395883822\"]},{\"url\":\"http:\\/\\/www.nytimes.com\\/2004\\/10\\/17\\/books\\/review\\/17ZIMMERL.html\",\"publication_dt\":\"2004-10-17\",\"byline\":\"CARL ZIMMER\",\"book_title\":\"The Ancestor's Tale: A Pilgrimage to the Dawn of Evolution\",\"book_author\":\"Richard Dawkins\",\"summary\":\"\",\"uuid\":\"00000000-0000-0000-0000-000000000000\",\"uri\":\"nyt:\\/\\/book\\/00000000-0000-0000-0000-000000000000\",\"isbn13\":[\"9780618005833\"]},{\"url\":\"http:\\/\\/www.nytimes.com\\/2015\\/11\\/29\\/books\\/review\\/brief-candle-in-the-dark-by-richard-dawkins.html\",\"publication_dt\":\"2015-11-29\",\"byline\":\"DANIEL MENAKER\",\"book_title\":\"Brief Candle in the Dark\",\"book_author\":\"Richard Dawkins\",\"summary\":\"Dawkins\\u2019s second memoir plumbs his grown-up research, reflections and controversies.\",\"uuid\":\"00000000-0000-0000-0000-000000000000\",\"uri\":\"nyt:\\/\\/book\\/00000000-0000-0000-0000-000000000000\",\"isbn13\":[\"9780062288431\"]}]}\u001b[0m\n",
      "\n",
      "\u001b[1m> Finished chain.\u001b[0m\n"
     ]
    },
    {
     "data": {
      "text/plain": [
       "{'question': 'give me the list of books written by richard dawkins.Dont forget to include their publication date and summary.Your api key is 9HeqmbZqQObfQsw0NHn66ppKB4enZOpi',\n",
       " 'output': 'The API response provides a list of 7 books written by Richard Dawkins along with their publication dates and summaries. The books include titles such as \"Devil\\'s Chaplain\", \"An Appetite for Wonder\", \"The God Delusion\", \"Blind Watchmaker\", \"Unweaving the Rainbow\", \"The Ancestor\\'s Tale\", and \"Brief Candle in the Dark\". Each book has a unique summary that gives a brief overview of its content.'}"
      ]
     },
     "execution_count": 111,
     "metadata": {},
     "output_type": "execute_result"
    }
   ],
   "source": [
    "chain.invoke(question)"
   ]
  },
  {
   "cell_type": "code",
   "execution_count": 151,
   "metadata": {},
   "outputs": [],
   "source": [
    "from langchain.chains import LLMMathChain, LLMChain\n",
    "from langchain.agents.agent_types import AgentType\n",
    "from langchain.agents import Tool, initialize_agent\n",
    "from langchain_community.utilities import WikipediaAPIWrapper\n"
   ]
  },
  {
   "cell_type": "code",
   "execution_count": 152,
   "metadata": {},
   "outputs": [],
   "source": [
    "wikipedia = WikipediaAPIWrapper()\n",
    "\n",
    "wikipedia_tool = Tool(name=\"Wikipedia\",func=wikipedia.run,description='''A useful tool for searching the Internet \n",
    "                        to find information on world events, issues, dates, years, etc. Worth \n",
    "                        using for general topics. Use precise questions.''')"
   ]
  },
  {
   "cell_type": "code",
   "execution_count": 153,
   "metadata": {},
   "outputs": [],
   "source": [
    "problem_chain = LLMMathChain.from_llm(llm=llm)\n"
   ]
  },
  {
   "cell_type": "code",
   "execution_count": 154,
   "metadata": {},
   "outputs": [],
   "source": [
    "math_tool = Tool.from_function(name=\"Calculator\",\n",
    "                              func=problem_chain.run,\n",
    "                              description='''Useful for when you need to answer questions \n",
    "            about math. This tool is only for math questions and nothing else. Only input\n",
    "            math expressions.''')"
   ]
  },
  {
   "cell_type": "code",
   "execution_count": 155,
   "metadata": {},
   "outputs": [],
   "source": [
    "from langchain.prompts.prompt import PromptTemplate"
   ]
  },
  {
   "cell_type": "code",
   "execution_count": 156,
   "metadata": {},
   "outputs": [],
   "source": [
    "word_problem_template = \"\"\"You are a reasoning agent tasked with solving \n",
    "        the user's equation based questions. Logically arrive at the solution, and be \n",
    "        factual. In your answers, clearly detail the steps involved and give the \n",
    "        final answer. Provide the response in bullet points. \n",
    "        Question  {question} Answer\"\"\"\n",
    "\n",
    "math_assistant_prompt = PromptTemplate(input_variables=[\"question\"],\n",
    "                                       template=word_problem_template\n",
    "                                       )\n",
    "word_problem_chain = LLMChain(llm=llm,\n",
    "                              prompt=math_assistant_prompt)\n",
    "word_problem_tool = Tool.from_function(name=\"Reasoning Tool\",\n",
    "                                       func=word_problem_chain.run,\n",
    "                                       description='''Useful for when you need \n",
    "                                            to answer logic-based/reasoning questions.''')\n",
    "                                                                                "
   ]
  },
  {
   "cell_type": "code",
   "execution_count": 157,
   "metadata": {},
   "outputs": [],
   "source": [
    "agent = initialize_agent(\n",
    "    tools=[wikipedia_tool, math_tool, word_problem_tool],\n",
    "    llm=llm,\n",
    "    agent=AgentType.ZERO_SHOT_REACT_DESCRIPTION,\n",
    "    verbose=False,\n",
    "    handle_parsing_errors=True\n",
    ")"
   ]
  },
  {
   "cell_type": "code",
   "execution_count": 158,
   "metadata": {},
   "outputs": [],
   "source": [
    "response = agent.invoke({\"input\": '''What is (x*x - y*y)/z, if x is 3 y is 4 and z is 13'''})"
   ]
  },
  {
   "cell_type": "code",
   "execution_count": 159,
   "metadata": {},
   "outputs": [
    {
     "name": "stdout",
     "output_type": "stream",
     "text": [
      "{'input': 'What is (x*x - y*y)/z, if x is 3 y is 4 and z is 13', 'output': '-0.5384615384615384'}\n"
     ]
    }
   ],
   "source": [
    "print(response)"
   ]
  },
  {
   "cell_type": "code",
   "execution_count": 160,
   "metadata": {},
   "outputs": [],
   "source": [
    "from langchain_core.runnables import RunnablePassthrough\n",
    "from langchain_core.prompts import ChatPromptTemplate\n",
    "from langchain_core.output_parsers import StrOutputParser"
   ]
  },
  {
   "cell_type": "code",
   "execution_count": 166,
   "metadata": {},
   "outputs": [],
   "source": [
    "first_prompt = ChatPromptTemplate.from_template(\n",
    "    \"Translate the following text to spanish:\"\n",
    "    \"\\n\\n{Text}\"\n",
    ")"
   ]
  },
  {
   "cell_type": "code",
   "execution_count": 167,
   "metadata": {},
   "outputs": [],
   "source": [
    "first_chain = first_prompt | llm | StrOutputParser()"
   ]
  },
  {
   "cell_type": "code",
   "execution_count": 168,
   "metadata": {},
   "outputs": [],
   "source": [
    "second_prompt = ChatPromptTemplate.from_template(\n",
    "    \"What language is the following text:\\n\\n{Spanish_Translation}\"\n",
    ")"
   ]
  },
  {
   "cell_type": "code",
   "execution_count": 169,
   "metadata": {},
   "outputs": [],
   "source": [
    "second_chain = second_prompt | llm | StrOutputParser()"
   ]
  },
  {
   "cell_type": "code",
   "execution_count": 170,
   "metadata": {},
   "outputs": [],
   "source": [
    "combined_chains = {\"Spanish_Translation\": first_chain} | RunnablePassthrough.assign(language=second_chain)"
   ]
  },
  {
   "cell_type": "code",
   "execution_count": 171,
   "metadata": {},
   "outputs": [],
   "source": [
    "review = '''\n",
    "Being in a start-up myself, I read this book to find comfort \n",
    "and confirmation about the volatility and emotional roller-coaster \n",
    "that comes with a working at the brink of software-as-a service. \n",
    "This book was just what it promised - interviews from some of the \n",
    "great successes in SV and elsewhere, their humble and sometimes \n",
    "difficult beginnings ('against all odds') that I am experiencing \n",
    "right now. It's not a literary piece of work - never intended to \n",
    "be, on the contrary, I felt the writing style was just what fits \n",
    "with a life in the fast lane - little time, easy to read chapters, \n",
    "inspiring and thank god, very 'down to earth.'\n",
    "\n",
    "The one critical point I would like to make: I am somewhat \n",
    "perplexed how the companies were chosen - there are so many \n",
    "other companies that could have fit the profile which seem \n",
    "much more of a success than some of the companies/products in \n",
    "the book (gmail? Comm'on, I guess the author wanted to have \n",
    "Google in there, but didn't get an interview so she went with \n",
    "gmail?). Other great companies are easy to find - they don't\n",
    "even need to be in the consumer space. How about Salesforce.com? \n",
    "I definitely liked the mix of 'new' and 'experienced' start ups. \n",
    "\n",
    "This book was a breeze to read and insightful for us start-up \n",
    "enterpreneurs.\n",
    "'''"
   ]
  },
  {
   "cell_type": "code",
   "execution_count": 172,
   "metadata": {},
   "outputs": [],
   "source": [
    "response = combined_chains.invoke({\"Text\": review})"
   ]
  },
  {
   "cell_type": "code",
   "execution_count": 175,
   "metadata": {},
   "outputs": [
    {
     "name": "stdout",
     "output_type": "stream",
     "text": [
      "The text is in Spanish. It is a review of a book about start-ups and the experiences of successful entrepreneurs. The reviewer is expressing their thoughts on the book, including their appreciation for the stories of successful founders and their criticism of the selection of companies featured in the book. They mention that the book was easy to read and provided valuable insights for start-up founders like themselves.\n"
     ]
    }
   ],
   "source": [
    "print(response['language'])"
   ]
  },
  {
   "cell_type": "code",
   "execution_count": 176,
   "metadata": {},
   "outputs": [],
   "source": [
    "rock_template = \"\"\"You are a very smart rock and roll professor. \\\n",
    "You are great at answering questions about rock and roll in a concise\\\n",
    "and easy to understand manner.\n",
    "\n",
    "Here is a question:\n",
    "{input}\"\"\"\n",
    "\n",
    "\n",
    "politics_template = \"\"\"You are a very good politics professor. \\\n",
    "You are great at answering politics questions..\n",
    "\n",
    "Here is a question:\n",
    "{input}\"\"\"\n",
    "\n",
    "\n",
    "history_template = \"\"\"You are a very good history teacher. \\\n",
    "You have an excellent knowledge of and understanding of people,\\\n",
    "events and contexts from a range of historical periods.\n",
    "\n",
    "Here is a question:\n",
    "{input}\"\"\"\n",
    "\n",
    "\n",
    "sports_template = \"\"\" You are a sports teacher.\\\n",
    "You are great at answering sports questions.\n",
    "\n",
    "Here is a question:\n",
    "{input}\"\"\""
   ]
  },
  {
   "cell_type": "code",
   "execution_count": 177,
   "metadata": {},
   "outputs": [],
   "source": [
    "prompt_infos = [\n",
    "    {\n",
    "        \"name\": \"rock\", \n",
    "        \"description\": \"Good for answering questions about rock and roll\", \n",
    "        \"prompt_template\": rock_template\n",
    "    },\n",
    "    {\n",
    "        \"name\": \"politics\", \n",
    "        \"description\": \"Good for answering questions about politics\", \n",
    "        \"prompt_template\": politics_template\n",
    "    },\n",
    "    {\n",
    "        \"name\": \"History\", \n",
    "        \"description\": \"Good for answering history questions\", \n",
    "        \"prompt_template\": history_template\n",
    "    },\n",
    "    {\n",
    "        \"name\": \"sports\", \n",
    "        \"description\": \"Good for answering questions about sports\", \n",
    "        \"prompt_template\": sports_template\n",
    "    }\n",
    "]"
   ]
  },
  {
   "cell_type": "code",
   "execution_count": 178,
   "metadata": {},
   "outputs": [],
   "source": [
    "from langchain.chains.router import MultiPromptChain\n",
    "from langchain.chains.router.llm_router import LLMRouterChain,RouterOutputParser\n",
    "from langchain.prompts import PromptTemplate"
   ]
  },
  {
   "cell_type": "code",
   "execution_count": 180,
   "metadata": {},
   "outputs": [],
   "source": [
    "destination_chains = {}\n",
    "\n",
    "for p_info in prompt_infos:\n",
    "    name = p_info[\"name\"]\n",
    "    prompt_template = p_info[\"prompt_template\"]\n",
    "    prompt = ChatPromptTemplate.from_template(template=prompt_template)\n",
    "    chain = LLMChain(llm=llm, prompt=prompt)\n",
    "    destination_chains[name] = chain  \n",
    "    \n",
    "destinations = [f\"{p['name']}: {p['description']}\" for p in prompt_infos]\n",
    "\n",
    "destinations_str = \"\\n\".join(destinations)"
   ]
  },
  {
   "cell_type": "code",
   "execution_count": 184,
   "metadata": {},
   "outputs": [],
   "source": [
    "default_prompt = ChatPromptTemplate.from_template(\"{input}\")\n",
    "default_chain = LLMChain(llm=llm, prompt=default_prompt)"
   ]
  },
  {
   "cell_type": "code",
   "execution_count": 185,
   "metadata": {},
   "outputs": [],
   "source": [
    "MULTI_PROMPT_ROUTER_TEMPLATE = \"\"\"Given a raw text input to a \\\n",
    "language model select the model prompt best suited for the input. \\\n",
    "You will be given the names of the available prompts and a \\\n",
    "description of what the prompt is best suited for. \\\n",
    "You may also revise the original input if you think that revising\\\n",
    "it will ultimately lead to a better response from the language model.\n",
    "\n",
    "<< FORMATTING >>\n",
    "Return a markdown code snippet with a JSON object formatted to look like:\n",
    "```json\n",
    "{{{{\n",
    "    \"destination\": string \\ name of the prompt to use or \"DEFAULT\"\n",
    "    \"next_inputs\": string \\ a potentially modified version of the original input\n",
    "}}}}\n",
    "```\n",
    "\n",
    "REMEMBER: \"destination\" MUST be one of the candidate prompt \\\n",
    "names specified below OR it can be \"DEFAULT\" if the input is not\\\n",
    "well suited for any of the candidate prompts.\n",
    "\n",
    "REMEMBER: \"next_inputs\" can just be the original input \\\n",
    "if you don't think any modifications are needed.\n",
    "\n",
    "<< CANDIDATE PROMPTS >>\n",
    "{destinations}\n",
    "\n",
    "<< INPUT >>\n",
    "{{input}}\n",
    "\n",
    "<< OUTPUT (remember to include the ```json)>>\"\"\""
   ]
  },
  {
   "cell_type": "code",
   "execution_count": 186,
   "metadata": {},
   "outputs": [],
   "source": [
    "router_template = MULTI_PROMPT_ROUTER_TEMPLATE.format(\n",
    "    destinations=destinations_str\n",
    ")\n",
    "router_prompt = PromptTemplate(\n",
    "    template=router_template,\n",
    "    input_variables=[\"input\"],\n",
    "    output_parser=RouterOutputParser(),\n",
    ")\n",
    "\n",
    "router_chain = LLMRouterChain.from_llm(\n",
    "    llm=llm, \n",
    "    prompt=router_prompt\n",
    ")"
   ]
  },
  {
   "cell_type": "code",
   "execution_count": 191,
   "metadata": {},
   "outputs": [],
   "source": [
    "chain = MultiPromptChain(router_chain=router_chain, \n",
    "                         destination_chains=destination_chains, \n",
    "                         default_chain=default_chain, verbose=True\n",
    "                        )"
   ]
  },
  {
   "cell_type": "code",
   "execution_count": 194,
   "metadata": {},
   "outputs": [
    {
     "name": "stdout",
     "output_type": "stream",
     "text": [
      "dict_keys(['rock', 'politics', 'History', 'sports'])\n"
     ]
    }
   ],
   "source": [
    "print(destination_chains.keys())"
   ]
  },
  {
   "cell_type": "code",
   "execution_count": 192,
   "metadata": {},
   "outputs": [
    {
     "name": "stdout",
     "output_type": "stream",
     "text": [
      "\n",
      "\n",
      "\u001b[1m> Entering new MultiPromptChain chain...\u001b[0m\n",
      "History: {'input': 'Who was Joe DiMaggio?'}\n",
      "\u001b[1m> Finished chain.\u001b[0m\n"
     ]
    },
    {
     "data": {
      "text/plain": [
       "\"Joe DiMaggio was a renowned professional baseball player who played as a center fielder for the New York Yankees in Major League Baseball (MLB) from 1936 to 1951. He is considered one of the greatest baseball players of all time and was a key figure in the Yankees' success during his career.\\n\\nDiMaggio was born in Martinez, California, in 1914 to Italian immigrant parents. He grew up in a family of baseball players, with his older brothers Vince and Dominic also playing professionally. DiMaggio began his baseball career in the minor leagues before being signed by the Yankees in 1935.\\n\\nDiMaggio quickly established himself as one of the best players in the league, winning the American League (AL) Rookie of the Year award in 1936. He went on to win nine AL championships and three World Series titles with the Yankees, as well as three AL Most Valuable Player (MVP) awards.\\n\\nDiMaggio is perhaps best known for his 56-game hitting streak in 1941, which remains a Major League record. He was also a 13-time All-Star and was inducted into the Baseball Hall of Fame in 1955.\\n\\nIn addition to his accomplishments on the field, DiMaggio was a cultural icon and a symbol of American athleticism and success. He was married to the actress Marilyn Monroe from 1954 to 1955, and his public image was closely tied to the glamour and glitz of Hollywood.\\n\\nDiMaggio passed away in 1999 at the age of 84, but his legacy as a baseball legend and a cultural icon continues to this day.\""
      ]
     },
     "execution_count": 192,
     "metadata": {},
     "output_type": "execute_result"
    }
   ],
   "source": [
    "chain.run(\"Who was Joe DiMaggio? Respond in less than 100 words\")"
   ]
  },
  {
   "cell_type": "code",
   "execution_count": 195,
   "metadata": {},
   "outputs": [
    {
     "name": "stdout",
     "output_type": "stream",
     "text": [
      "\n",
      "\n",
      "\u001b[1m> Entering new MultiPromptChain chain...\u001b[0m\n",
      "sports: {'input': 'who won the last soccer world cup'}\n",
      "\u001b[1m> Finished chain.\u001b[0m\n"
     ]
    },
    {
     "data": {
      "text/plain": [
       "{'input': 'who won the last soccer world cup',\n",
       " 'text': 'The last soccer World Cup was won by France in 2018. They defeated Croatia 4-2 in the final match. If you have any other sports-related questions, feel free to ask!'}"
      ]
     },
     "execution_count": 195,
     "metadata": {},
     "output_type": "execute_result"
    }
   ],
   "source": [
    "chain.invoke('who won the last soccer world cup')"
   ]
  },
  {
   "cell_type": "code",
   "execution_count": 196,
   "metadata": {},
   "outputs": [
    {
     "name": "stdout",
     "output_type": "stream",
     "text": [
      "\n",
      "\n",
      "\u001b[1m> Entering new MultiPromptChain chain...\u001b[0m\n",
      "None: {'input': 'What is (x*x - y*y)/z, if x is 3 y is 4 and z is 13'}\n",
      "\u001b[1m> Finished chain.\u001b[0m\n"
     ]
    },
    {
     "data": {
      "text/plain": [
       "{'input': 'What is (x*x - y*y)/z, if x is 3 y is 4 and z is 13',\n",
       " 'text': \"To find the value of the expression (x*x - y*y)/z when x is 3, y is 4, and z is 13, we need to substitute the given values into the expression:\\n\\n(x*x - y*y)/z = (3*3 - 4*4)/13\\n\\nFirst, let's calculate the values inside the parentheses:\\n\\n3*3 = 9\\n4*4 = 16\\n\\nNow, substitute these values back into the expression:\\n\\n(9 - 16)/13\\n\\nNext, subtract the numbers inside the parentheses:\\n\\n-7/13\\n\\nThe expression (x*x - y*y)/z, with x equal to 3, y equal to 4, and z equal to 13, is equal to -7/13.\"}"
      ]
     },
     "execution_count": 196,
     "metadata": {},
     "output_type": "execute_result"
    }
   ],
   "source": [
    "chain.invoke(\n",
    "    'What is (x*x - y*y)/z, if x is 3 y is 4 and z is 13'\n",
    ")"
   ]
  },
  {
   "cell_type": "code",
   "execution_count": 197,
   "metadata": {},
   "outputs": [
    {
     "name": "stdout",
     "output_type": "stream",
     "text": [
      "\n",
      "\n",
      "\u001b[1m> Entering new MultiPromptChain chain...\u001b[0m\n",
      "None: {'input': 'who is narendra modi'}\n",
      "\u001b[1m> Finished chain.\u001b[0m\n"
     ]
    },
    {
     "data": {
      "text/plain": [
       "{'input': 'who is narendra modi',\n",
       " 'text': \"Narendra Modi is the current Prime Minister of India, serving in this position since May 2014. He is a member of the Bharatiya Janata Party (BJP) and was the Chief Minister of the state of Gujarat from 2001 to 2014. Modi was born on September 17, 1950, in Vadnagar, Gujarat, and he grew up in a modest family. He joined the Rashtriya Swayamsevak Sangh (RSS), a Hindu nationalist organization, at a young age and rose through its ranks. Modi has a bachelor's degree in political science from Gujarat University.\\n\\nModi's tenure as Chief Minister of Gujarat was marked by significant economic growth and development in the state. He was credited with improving the state's infrastructure, attracting investment, and promoting entrepreneurship. However, his tenure was also marred by controversy over his handling of the 2002 Gujarat riots, which resulted in the deaths of over 1,000 people, mostly Muslims. Modi was accused of failing to prevent the violence and was subsequently denied a visa to enter the United States.\\n\\nIn 2014, Modi led the BJP to a landslide victory in the Indian general elections, becoming the first Prime Minister from the party to win a majority in the Lok Sabha, the lower house of India's bicameral Parliament, since 1984. Modi's government has focused on economic reforms, including demonetization, the introduction of a goods and services tax (GST), and efforts to promote entrepreneurship and ease of doing business in India. However, his government has also been criticized for its handling of the COVID-19 pandemic, rising inflation, and farmers' protests.\\n\\nModi is known for his charismatic personality, oratory skills, and strong leadership style. He has a large following both in India and among the Indian diaspora. However, his policies and rhetoric have also been criticized for being divisive and discriminatory towards minorities, particularly Muslims. Despite the controversy, Modi remains a popular and influential figure in Indian politics.\"}"
      ]
     },
     "execution_count": 197,
     "metadata": {},
     "output_type": "execute_result"
    }
   ],
   "source": [
    "chain.invoke('who in narendra modi')"
   ]
  },
  {
   "cell_type": "code",
   "execution_count": 198,
   "metadata": {},
   "outputs": [
    {
     "name": "stdout",
     "output_type": "stream",
     "text": [
      "\n",
      "\n",
      "\u001b[1m> Entering new MultiPromptChain chain...\u001b[0m\n",
      "politics: {'input': 'who is Donald Trump'}\n",
      "\u001b[1m> Finished chain.\u001b[0m\n"
     ]
    },
    {
     "data": {
      "text/plain": [
       "{'input': 'who is Donald Trump',\n",
       " 'text': 'Donald Trump is an American politician and businessman who served as the 45th president of the United States from January 2017 to January 2021. He was previously a real estate mogul and hosted the reality TV show \"The Apprentice.\" Trump is a member of the Republican Party and is known for his controversial policies and statements, as well as his use of social media to communicate with the public. Prior to his presidency, he had never held political office. Trump was born and raised in Queens, New York, and received a degree in economics from the Wharton School of the University of Pennsylvania. He is a controversial figure and his presidency was marked by political polarization and division.'}"
      ]
     },
     "execution_count": 198,
     "metadata": {},
     "output_type": "execute_result"
    }
   ],
   "source": [
    "chain.invoke('who is donald trump')"
   ]
  }
 ],
 "metadata": {
  "kernelspec": {
   "display_name": "nlp",
   "language": "python",
   "name": "python3"
  },
  "language_info": {
   "codemirror_mode": {
    "name": "ipython",
    "version": 3
   },
   "file_extension": ".py",
   "mimetype": "text/x-python",
   "name": "python",
   "nbconvert_exporter": "python",
   "pygments_lexer": "ipython3",
   "version": "3.11.9"
  },
  "orig_nbformat": 4
 },
 "nbformat": 4,
 "nbformat_minor": 2
}
