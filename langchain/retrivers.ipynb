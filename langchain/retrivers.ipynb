{
 "cells": [
  {
   "cell_type": "code",
   "execution_count": 1,
   "metadata": {},
   "outputs": [],
   "source": [
    "from langchain_community.document_loaders import TextLoader\n",
    "from langchain_community.vectorstores import FAISS\n",
    "from langchain_openai import OpenAIEmbeddings\n",
    "from langchain_text_splitters import CharacterTextSplitter\n"
   ]
  },
  {
   "cell_type": "code",
   "execution_count": 2,
   "metadata": {},
   "outputs": [],
   "source": [
    "loader = TextLoader(\"state_of_union.txt\")\n",
    "documents = loader.load()\n",
    "text_splitter = CharacterTextSplitter(chunk_size=1000, chunk_overlap=0)\n",
    "texts = text_splitter.split_documents(documents)\n",
    "embeddings = OpenAIEmbeddings()\n",
    "db = FAISS.from_documents(texts, embeddings)\n"
   ]
  },
  {
   "cell_type": "code",
   "execution_count": 3,
   "metadata": {},
   "outputs": [],
   "source": [
    "retriever = db.as_retriever()\n"
   ]
  },
  {
   "cell_type": "code",
   "execution_count": 4,
   "metadata": {},
   "outputs": [],
   "source": [
    "docs = retriever.invoke(\"what did he say about ketanji brown jackson\")"
   ]
  },
  {
   "cell_type": "code",
   "execution_count": 10,
   "metadata": {},
   "outputs": [],
   "source": [
    "retriever = db.as_retriever(search_type=\"mmr\")"
   ]
  },
  {
   "cell_type": "code",
   "execution_count": 11,
   "metadata": {},
   "outputs": [],
   "source": [
    "docs = retriever.invoke(\"what did he say about ketanji brown jackson\")"
   ]
  },
  {
   "cell_type": "code",
   "execution_count": 14,
   "metadata": {},
   "outputs": [],
   "source": [
    "retriever = db.as_retriever(\n",
    "    search_type=\"similarity_score_threshold\", search_kwargs={\"score_threshold\": 0.5}\n",
    ")"
   ]
  },
  {
   "cell_type": "code",
   "execution_count": 15,
   "metadata": {},
   "outputs": [],
   "source": [
    "docs = retriever.invoke(\"what did he say about ketanji brown jackson\")\n",
    "\n"
   ]
  },
  {
   "cell_type": "code",
   "execution_count": 1,
   "metadata": {},
   "outputs": [
    {
     "name": "stderr",
     "output_type": "stream",
     "text": [
      "USER_AGENT environment variable not set, consider setting it to identify your requests.\n"
     ]
    }
   ],
   "source": [
    "from langchain_community.vectorstores import FAISS\n",
    "from langchain_community.document_loaders import WebBaseLoader\n",
    "from langchain_openai import OpenAIEmbeddings\n",
    "from langchain_text_splitters import RecursiveCharacterTextSplitter\n",
    "\n",
    "# Load blog post\n",
    "loader = WebBaseLoader(\"https://lilianweng.github.io/posts/2023-06-23-agent/\")\n",
    "data = loader.load()\n",
    "\n",
    "# Split\n",
    "text_splitter = RecursiveCharacterTextSplitter(chunk_size=500, chunk_overlap=0)\n",
    "splits = text_splitter.split_documents(data)\n",
    "\n",
    "# VectorDB\n",
    "embedding = OpenAIEmbeddings()\n",
    "vectordb = FAISS.from_documents(documents=splits, embedding=embedding)"
   ]
  },
  {
   "cell_type": "code",
   "execution_count": 12,
   "metadata": {},
   "outputs": [],
   "source": [
    "from langchain_groq import ChatGroq\n",
    "from langchain_core.output_parsers import BaseOutputParser\n",
    "from langchain_core.prompts import PromptTemplate\n",
    "from langchain_core.pydantic_v1 import BaseModel, Field\n",
    "from typing import List\n",
    "import os\n",
    "\n",
    "class LineListOutputParser(BaseOutputParser[List[str]]):\n",
    "    \"\"\"Output parser for a list of lines.\"\"\"\n",
    "\n",
    "    def parse(self, text: str) -> List[str]:\n",
    "        lines = text.strip().split(\"\\n\")\n",
    "        return list(filter(None, lines))  # Remove empty lines\n",
    "\n",
    "\n",
    "output_parser = LineListOutputParser()"
   ]
  },
  {
   "cell_type": "code",
   "execution_count": 13,
   "metadata": {},
   "outputs": [],
   "source": [
    "\n",
    "QUERY_PROMPT = PromptTemplate(\n",
    "    input_variables=[\"question\"],\n",
    "    template=\"\"\"You are an AI language model assistant. Your task is to generate five \n",
    "    different versions of the given user question to retrieve relevant documents from a vector \n",
    "    database. By generating multiple perspectives on the user question, your goal is to help\n",
    "    the user overcome some of the limitations of the distance-based similarity search. \n",
    "    Provide these alternative questions separated by newlines.\n",
    "    Original question: {question}\"\"\",\n",
    ")"
   ]
  },
  {
   "cell_type": "code",
   "execution_count": 14,
   "metadata": {},
   "outputs": [],
   "source": [
    "llm = ChatGroq(api_key=os.getenv('GROQ_API_KEY'),model='mixtral-8x7B-32768')"
   ]
  },
  {
   "cell_type": "code",
   "execution_count": 15,
   "metadata": {},
   "outputs": [],
   "source": [
    "llm_chain = QUERY_PROMPT | llm | output_parser\n",
    "\n",
    "question = \"What are the approaches to Task Decomposition?\"\n",
    "\n"
   ]
  },
  {
   "cell_type": "code",
   "execution_count": 19,
   "metadata": {},
   "outputs": [
    {
     "data": {
      "text/plain": [
       "7"
      ]
     },
     "execution_count": 19,
     "metadata": {},
     "output_type": "execute_result"
    }
   ],
   "source": [
    "from langchain.retrievers import MultiQueryRetriever\n",
    "retriever = MultiQueryRetriever(\n",
    "    retriever=vectordb.as_retriever(), llm_chain=llm_chain, parser_key=\"lines\"\n",
    ")  # \"lines\" is the key (attribute name) of the parsed output\n",
    "\n",
    "# Results\n",
    "unique_docs = retriever.invoke(\"What are the approaches to Task Decomposition?\")\n",
    "len(unique_docs)"
   ]
  },
  {
   "cell_type": "code",
   "execution_count": 22,
   "metadata": {},
   "outputs": [],
   "source": [
    "def pretty_print_docs(docs):\n",
    "    print(\n",
    "        f\"\\n{'-' * 100}\\n\".join(\n",
    "            [f\"Document {i+1}:\\n\\n\" + d.page_content for i, d in enumerate(docs)]\n",
    "        )\n",
    "    )"
   ]
  },
  {
   "cell_type": "code",
   "execution_count": 26,
   "metadata": {},
   "outputs": [
    {
     "name": "stdout",
     "output_type": "stream",
     "text": [
      "Document 1:\n",
      "\n",
      "Most annual messages outline the President's legislative agenda and national priorities in general or specific terms. James Monroe in 1823 discussed the centerpiece of his foreign policy, now-known as the Monroe Doctrine, which called on European countries to end western colonization. Lincoln famously expressed his desire for slave emancipation in 1862, and Franklin Roosevelt spoke about the now-famous four freedoms during his State of the Union message in 1941.\n",
      "\n",
      "Whatever the form, content, delivery method or broadcast medium, the President's annual address is a backdrop for national unity. The State of the Union gives the President an opportunity to reflect on the past while presenting his hopes for the future to Congress, the American people and the world.\n",
      "----------------------------------------------------------------------------------------------------\n",
      "Document 2:\n",
      "\n",
      "With the advent of radio and television, the President's annual message has become not only a conversation between the President and Congress but also an opportunity for the President to communicate with the American people at the same time. Calvin Coolidge's 1923 speech was the first annual message broadcast on radio. Franklin Roosevelt began using the phrase \"State of the Union\" in 1935, which became the common name of the President's annual message. Roosevelt's successor, Harry Truman, also set a precedent in 1947 when his State of the Union speech became the first to be broadcast on television.\n",
      "----------------------------------------------------------------------------------------------------\n",
      "Document 3:\n",
      "\n",
      "For example, Thomas Jefferson thought Washington's oral presentation was too kingly for the new republic. Likewise, Congress's practice of giving a courteous reply in person at the President's residence was too formal. Jefferson detailed his priorities in his first annual message in 1801 and sent copies of the written message to each house of Congress. The President's annual message, as it was then called, was not spoken by the President for the next 112 years. The message was often printed in full or as excerpts in newspapers for the American public to read.\n",
      "\n",
      "The first President to revive Washington's spoken precedent was Woodrow Wilson in 1913. Although controversial at the time, Wilson delivered his first annual message in person to both houses of Congress and outlined his legislative priorities.\n",
      "----------------------------------------------------------------------------------------------------\n",
      "Document 4:\n",
      "\n",
      "\"The President shall from time to time give to Congress information of the State of the Union and recommend to their Consideration such measures as he shall judge necessary and expedient.\" Article II, Sec. 3, U.S. Constitution\n",
      "\n",
      "George Washington rode on a carriage driven by six horses from his house on Cherry Street to Federal Hall in New York to give his deliver his first annual message in person.\n",
      "On a cold January morning, the President rode in a carriage drawn by six horses from his residence on Cherry Street in New York to Federal Hall for a joint meeting of the two bodies of Congress, the House of Representatives and the Senate. When George Washington personally delivered the first annual message to Congress on January 8, 1790, he was aware of his constitutional duty to deliver his message and of the precedent he was setting for future presidents.\n"
     ]
    }
   ],
   "source": [
    "from langchain_community.document_loaders import TextLoader\n",
    "from langchain_community.vectorstores import FAISS\n",
    "from langchain_openai import OpenAIEmbeddings\n",
    "from langchain_text_splitters import CharacterTextSplitter\n",
    "\n",
    "documents = TextLoader(\"state_of_union.txt\").load()\n",
    "text_splitter = CharacterTextSplitter(chunk_size=1000, chunk_overlap=0)\n",
    "texts = text_splitter.split_documents(documents)\n",
    "retriever = FAISS.from_documents(texts, OpenAIEmbeddings()).as_retriever()\n",
    "\n",
    "docs = retriever.invoke(\"what was the content of the annual message\")\n",
    "pretty_print_docs(docs)"
   ]
  },
  {
   "cell_type": "code",
   "execution_count": 33,
   "metadata": {},
   "outputs": [
    {
     "name": "stdout",
     "output_type": "stream",
     "text": [
      "Document 1:\n",
      "\n",
      "Franklin Roosevelt spoke about the now-famous four freedoms during his State of the Union message in 1941.\n",
      "----------------------------------------------------------------------------------------------------\n",
      "Document 2:\n",
      "\n",
      "NO_OUTPUT\n",
      "\n",
      "The context does not provide information about the content of the annual message in 1941.\n",
      "----------------------------------------------------------------------------------------------------\n",
      "Document 3:\n",
      "\n",
      "The content of the annual message in 1941 is not provided in the context. However, the context does mention that Woodrow Wilson was the first President to revive Washington's spoken precedent of delivering the annual message in person to both houses of Congress, starting in 1913. Therefore, it can be inferred that the President, Franklin D. Roosevelt, who was in office in 1941, would have delivered the annual message that year in person.\n",
      "\n",
      "So, the relevant parts of the context are:\n",
      "\n",
      "* Woodrow Wilson delivered his first annual message in person to both houses of Congress and outlined his legislative priorities.\n",
      "* This spoken precedent was revived by Wilson in 1913.\n",
      "\n",
      "However, the content of the message in 1941 is not mentioned in the context.\n",
      "----------------------------------------------------------------------------------------------------\n",
      "Document 4:\n",
      "\n",
      "NO_OUTPUT\n",
      "\n",
      "The question asks about the content of the annual message in 1941, but the context provided only includes information about the delivery of the first annual message by George Washington in 1790. There is no mention of the content of any annual message, let alone the one from 1941.\n"
     ]
    }
   ],
   "source": [
    "from langchain.retrievers import ContextualCompressionRetriever\n",
    "from langchain.retrievers.document_compressors import LLMChainExtractor\n",
    "from langchain_groq import ChatGroq\n",
    "import os\n",
    "llm = ChatGroq(api_key=os.getenv('GROQ_API_KEY'),model='mixtral-8x7B-32768')\n",
    "compressor = LLMChainExtractor.from_llm(llm)\n",
    "compression_retriever = ContextualCompressionRetriever(\n",
    "    base_compressor=compressor, base_retriever=retriever\n",
    ")\n",
    "\n",
    "compressed_docs = compression_retriever.invoke(\n",
    "    \"what was the content of the annual message in 1941\"\n",
    ")\n",
    "pretty_print_docs(compressed_docs)"
   ]
  },
  {
   "cell_type": "code",
   "execution_count": 28,
   "metadata": {},
   "outputs": [
    {
     "name": "stdout",
     "output_type": "stream",
     "text": [
      "Document 1:\n",
      "\n",
      "Most annual messages outline the President's legislative agenda and national priorities in general or specific terms. James Monroe in 1823 discussed the centerpiece of his foreign policy, now-known as the Monroe Doctrine, which called on European countries to end western colonization. Lincoln famously expressed his desire for slave emancipation in 1862, and Franklin Roosevelt spoke about the now-famous four freedoms during his State of the Union message in 1941.\n",
      "\n",
      "Whatever the form, content, delivery method or broadcast medium, the President's annual address is a backdrop for national unity. The State of the Union gives the President an opportunity to reflect on the past while presenting his hopes for the future to Congress, the American people and the world.\n",
      "----------------------------------------------------------------------------------------------------\n",
      "Document 2:\n",
      "\n",
      "For example, Thomas Jefferson thought Washington's oral presentation was too kingly for the new republic. Likewise, Congress's practice of giving a courteous reply in person at the President's residence was too formal. Jefferson detailed his priorities in his first annual message in 1801 and sent copies of the written message to each house of Congress. The President's annual message, as it was then called, was not spoken by the President for the next 112 years. The message was often printed in full or as excerpts in newspapers for the American public to read.\n",
      "\n",
      "The first President to revive Washington's spoken precedent was Woodrow Wilson in 1913. Although controversial at the time, Wilson delivered his first annual message in person to both houses of Congress and outlined his legislative priorities.\n"
     ]
    }
   ],
   "source": [
    "from langchain.retrievers.document_compressors import LLMChainFilter\n",
    "\n",
    "_filter = LLMChainFilter.from_llm(llm)\n",
    "compression_retriever = ContextualCompressionRetriever(\n",
    "    base_compressor=_filter, base_retriever=retriever\n",
    ")\n",
    "\n",
    "compressed_docs = compression_retriever.invoke(\n",
    "    \"what was the content of the annual message\"\n",
    ")\n",
    "pretty_print_docs(compressed_docs)"
   ]
  },
  {
   "cell_type": "code",
   "execution_count": 29,
   "metadata": {},
   "outputs": [
    {
     "name": "stdout",
     "output_type": "stream",
     "text": [
      "Document 1:\n",
      "\n",
      "Most annual messages outline the President's legislative agenda and national priorities in general or specific terms. James Monroe in 1823 discussed the centerpiece of his foreign policy, now-known as the Monroe Doctrine, which called on European countries to end western colonization. Lincoln famously expressed his desire for slave emancipation in 1862, and Franklin Roosevelt spoke about the now-famous four freedoms during his State of the Union message in 1941.\n",
      "\n",
      "Whatever the form, content, delivery method or broadcast medium, the President's annual address is a backdrop for national unity. The State of the Union gives the President an opportunity to reflect on the past while presenting his hopes for the future to Congress, the American people and the world.\n"
     ]
    }
   ],
   "source": [
    "from langchain.retrievers.document_compressors import LLMListwiseRerank\n",
    "from langchain_openai import ChatOpenAI\n",
    "\n",
    "llm = ChatOpenAI(model=\"gpt-3.5-turbo-0125\", temperature=0)\n",
    "\n",
    "_filter = LLMListwiseRerank.from_llm(llm, top_n=1)\n",
    "compression_retriever = ContextualCompressionRetriever(\n",
    "    base_compressor=_filter, base_retriever=retriever\n",
    ")\n",
    "\n",
    "compressed_docs = compression_retriever.invoke(\n",
    "    \"what was the content of the annual message\"\n",
    ")\n",
    "pretty_print_docs(compressed_docs)"
   ]
  },
  {
   "cell_type": "code",
   "execution_count": 30,
   "metadata": {},
   "outputs": [
    {
     "name": "stdout",
     "output_type": "stream",
     "text": [
      "Document 1:\n",
      "\n",
      "Most annual messages outline the President's legislative agenda and national priorities in general or specific terms. James Monroe in 1823 discussed the centerpiece of his foreign policy, now-known as the Monroe Doctrine, which called on European countries to end western colonization. Lincoln famously expressed his desire for slave emancipation in 1862, and Franklin Roosevelt spoke about the now-famous four freedoms during his State of the Union message in 1941.\n",
      "\n",
      "Whatever the form, content, delivery method or broadcast medium, the President's annual address is a backdrop for national unity. The State of the Union gives the President an opportunity to reflect on the past while presenting his hopes for the future to Congress, the American people and the world.\n",
      "----------------------------------------------------------------------------------------------------\n",
      "Document 2:\n",
      "\n",
      "With the advent of radio and television, the President's annual message has become not only a conversation between the President and Congress but also an opportunity for the President to communicate with the American people at the same time. Calvin Coolidge's 1923 speech was the first annual message broadcast on radio. Franklin Roosevelt began using the phrase \"State of the Union\" in 1935, which became the common name of the President's annual message. Roosevelt's successor, Harry Truman, also set a precedent in 1947 when his State of the Union speech became the first to be broadcast on television.\n",
      "----------------------------------------------------------------------------------------------------\n",
      "Document 3:\n",
      "\n",
      "For example, Thomas Jefferson thought Washington's oral presentation was too kingly for the new republic. Likewise, Congress's practice of giving a courteous reply in person at the President's residence was too formal. Jefferson detailed his priorities in his first annual message in 1801 and sent copies of the written message to each house of Congress. The President's annual message, as it was then called, was not spoken by the President for the next 112 years. The message was often printed in full or as excerpts in newspapers for the American public to read.\n",
      "\n",
      "The first President to revive Washington's spoken precedent was Woodrow Wilson in 1913. Although controversial at the time, Wilson delivered his first annual message in person to both houses of Congress and outlined his legislative priorities.\n",
      "----------------------------------------------------------------------------------------------------\n",
      "Document 4:\n",
      "\n",
      "\"The President shall from time to time give to Congress information of the State of the Union and recommend to their Consideration such measures as he shall judge necessary and expedient.\" Article II, Sec. 3, U.S. Constitution\n",
      "\n",
      "George Washington rode on a carriage driven by six horses from his house on Cherry Street to Federal Hall in New York to give his deliver his first annual message in person.\n",
      "On a cold January morning, the President rode in a carriage drawn by six horses from his residence on Cherry Street in New York to Federal Hall for a joint meeting of the two bodies of Congress, the House of Representatives and the Senate. When George Washington personally delivered the first annual message to Congress on January 8, 1790, he was aware of his constitutional duty to deliver his message and of the precedent he was setting for future presidents.\n"
     ]
    }
   ],
   "source": [
    "from langchain.retrievers.document_compressors import EmbeddingsFilter\n",
    "from langchain_openai import OpenAIEmbeddings\n",
    "\n",
    "embeddings = OpenAIEmbeddings()\n",
    "embeddings_filter = EmbeddingsFilter(embeddings=embeddings, similarity_threshold=0.76)\n",
    "compression_retriever = ContextualCompressionRetriever(\n",
    "    base_compressor=embeddings_filter, base_retriever=retriever\n",
    ")\n",
    "\n",
    "compressed_docs = compression_retriever.invoke(\n",
    "    \"what was the content of the annual message in 1941\"\n",
    ")\n",
    "pretty_print_docs(compressed_docs)"
   ]
  },
  {
   "cell_type": "code",
   "execution_count": 31,
   "metadata": {},
   "outputs": [],
   "source": [
    "from langchain.retrievers.document_compressors import DocumentCompressorPipeline\n",
    "from langchain_community.document_transformers import EmbeddingsRedundantFilter\n",
    "from langchain_text_splitters import CharacterTextSplitter\n",
    "\n",
    "splitter = CharacterTextSplitter(chunk_size=300, chunk_overlap=0, separator=\". \")\n",
    "redundant_filter = EmbeddingsRedundantFilter(embeddings=embeddings)\n",
    "relevant_filter = EmbeddingsFilter(embeddings=embeddings, similarity_threshold=0.76)\n",
    "pipeline_compressor = DocumentCompressorPipeline(\n",
    "    transformers=[splitter, redundant_filter, relevant_filter]\n",
    ")"
   ]
  },
  {
   "cell_type": "code",
   "execution_count": 32,
   "metadata": {},
   "outputs": [
    {
     "name": "stderr",
     "output_type": "stream",
     "text": [
      "Created a chunk of size 310, which is longer than the specified 300\n",
      "Created a chunk of size 426, which is longer than the specified 300\n"
     ]
    },
    {
     "name": "stdout",
     "output_type": "stream",
     "text": [
      "Document 1:\n",
      "\n",
      "Jefferson detailed his priorities in his first annual message in 1801 and sent copies of the written message to each house of Congress. The President's annual message, as it was then called, was not spoken by the President for the next 112 years\n",
      "----------------------------------------------------------------------------------------------------\n",
      "Document 2:\n",
      "\n",
      "With the advent of radio and television, the President's annual message has become not only a conversation between the President and Congress but also an opportunity for the President to communicate with the American people at the same time\n",
      "----------------------------------------------------------------------------------------------------\n",
      "Document 3:\n",
      "\n",
      "Although controversial at the time, Wilson delivered his first annual message in person to both houses of Congress and outlined his legislative priorities.\n",
      "----------------------------------------------------------------------------------------------------\n",
      "Document 4:\n",
      "\n",
      "When George Washington personally delivered the first annual message to Congress on January 8, 1790, he was aware of his constitutional duty to deliver his message and of the precedent he was setting for future presidents.\n",
      "----------------------------------------------------------------------------------------------------\n",
      "Document 5:\n",
      "\n",
      "Lincoln famously expressed his desire for slave emancipation in 1862, and Franklin Roosevelt spoke about the now-famous four freedoms during his State of the Union message in 1941.\n",
      "\n",
      "Whatever the form, content, delivery method or broadcast medium, the President's annual address is a backdrop for national unity\n",
      "----------------------------------------------------------------------------------------------------\n",
      "Document 6:\n",
      "\n",
      "Most annual messages outline the President's legislative agenda and national priorities in general or specific terms. James Monroe in 1823 discussed the centerpiece of his foreign policy, now-known as the Monroe Doctrine, which called on European countries to end western colonization\n",
      "----------------------------------------------------------------------------------------------------\n",
      "Document 7:\n",
      "\n",
      "Calvin Coolidge's 1923 speech was the first annual message broadcast on radio. Franklin Roosevelt began using the phrase \"State of the Union\" in 1935, which became the common name of the President's annual message\n",
      "----------------------------------------------------------------------------------------------------\n",
      "Document 8:\n",
      "\n",
      "The State of the Union gives the President an opportunity to reflect on the past while presenting his hopes for the future to Congress, the American people and the world.\n",
      "----------------------------------------------------------------------------------------------------\n",
      "Document 9:\n",
      "\n",
      "Constitution\n",
      "\n",
      "George Washington rode on a carriage driven by six horses from his house on Cherry Street to Federal Hall in New York to give his deliver his first annual message in person.\n",
      "On a cold January morning, the President rode in a carriage drawn by six horses from his residence on Cherry Street in New York to Federal Hall for a joint meeting of the two bodies of Congress, the House of Representatives and the Senate\n",
      "----------------------------------------------------------------------------------------------------\n",
      "Document 10:\n",
      "\n",
      "The message was often printed in full or as excerpts in newspapers for the American public to read.\n",
      "\n",
      "The first President to revive Washington's spoken precedent was Woodrow Wilson in 1913\n",
      "----------------------------------------------------------------------------------------------------\n",
      "Document 11:\n",
      "\n",
      "For example, Thomas Jefferson thought Washington's oral presentation was too kingly for the new republic. Likewise, Congress's practice of giving a courteous reply in person at the President's residence was too formal\n",
      "----------------------------------------------------------------------------------------------------\n",
      "Document 12:\n",
      "\n",
      "Roosevelt's successor, Harry Truman, also set a precedent in 1947 when his State of the Union speech became the first to be broadcast on television.\n",
      "----------------------------------------------------------------------------------------------------\n",
      "Document 13:\n",
      "\n",
      "\"The President shall from time to time give to Congress information of the State of the Union and recommend to their Consideration such measures as he shall judge necessary and expedient.\" Article II, Sec. 3, U.S\n"
     ]
    }
   ],
   "source": [
    "compression_retriever = ContextualCompressionRetriever(\n",
    "    base_compressor=pipeline_compressor, base_retriever=retriever\n",
    ")\n",
    "\n",
    "compressed_docs = compression_retriever.invoke(\n",
    "    \"what was the content of the annual message\"\n",
    ")\n",
    "pretty_print_docs(compressed_docs)"
   ]
  }
 ],
 "metadata": {
  "kernelspec": {
   "display_name": "nlp",
   "language": "python",
   "name": "python3"
  },
  "language_info": {
   "codemirror_mode": {
    "name": "ipython",
    "version": 3
   },
   "file_extension": ".py",
   "mimetype": "text/x-python",
   "name": "python",
   "nbconvert_exporter": "python",
   "pygments_lexer": "ipython3",
   "version": "3.11.9"
  },
  "orig_nbformat": 4
 },
 "nbformat": 4,
 "nbformat_minor": 2
}
