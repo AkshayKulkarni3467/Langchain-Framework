{
 "cells": [
  {
   "cell_type": "code",
   "execution_count": 1,
   "metadata": {},
   "outputs": [],
   "source": [
    "from langchain.document_loaders import (CSVLoader,\n",
    "                                        DirectoryLoader,\n",
    "                                        Docx2txtLoader,\n",
    "                                        DataFrameLoader,\n",
    "                                        JSONLoader,\n",
    "                                        PyMuPDFLoader,\n",
    "                                        RedditPostsLoader,\n",
    "                                        TwitterTweetLoader,\n",
    "                                        WhatsAppChatLoader,\n",
    "                                        WikipediaLoader,\n",
    "                                        YoutubeAudioLoader,\n",
    "                                        YoutubeLoader\n",
    "                                        )\n",
    "from langchain_community.document_loaders import (GoogleApiYoutubeLoader,\n",
    "                                                  GoogleSpeechToTextLoader,\n",
    "                                                  SeleniumURLLoader,\n",
    "                                                  \n",
    "                                        )\n",
    "#BraveSearchLoader\n",
    "#ChatGPTLoader\n",
    "#DiscordChatLoader\n",
    "#GitHubFileLoader\n",
    "#YoutubeAudioLoader\n"
   ]
  },
  {
   "cell_type": "code",
   "execution_count": null,
   "metadata": {},
   "outputs": [],
   "source": [
    "import os\n",
    "from langchain_upstage import UpstageLayoutAnalysisLoader\n",
    "\n",
    "os.environ[\"UPSTAGE_API_KEY\"] = os.getenv('UPSTAGE_API_KEY')\n",
    "\n",
    "file_path = \"data/cropped.pdf\"\n",
    "loader = UpstageLayoutAnalysisLoader(file_path, split=\"page\", use_ocr=True)\n",
    "\n",
    "pages = loader.load()  \n"
   ]
  },
  {
   "cell_type": "code",
   "execution_count": 12,
   "metadata": {},
   "outputs": [],
   "source": [
    "with open('data/output.txt', 'w') as f:\n",
    "    f.write(pages[5].page_content)"
   ]
  },
  {
   "cell_type": "code",
   "execution_count": 40,
   "metadata": {},
   "outputs": [],
   "source": [
    "from langchain_groq import ChatGroq\n",
    "from langchain_openai import ChatOpenAI\n",
    "\n",
    "llm = ChatOpenAI(model='gpt-4o-mini',api_key=os.getenv('OPENAI_API_KEY'))\n",
    "\n",
    "# llm = ChatGroq(model='mixtral-8x7B-32768',api_key=os.getenv('GROQ_API_KEY'))"
   ]
  },
  {
   "cell_type": "code",
   "execution_count": 58,
   "metadata": {},
   "outputs": [],
   "source": [
    "response = llm.invoke('extract all the information from this html and convert it into proper CSV format html : {}\\nREMEMBER do not return any tips or explainations only return the CSV'.format(pages[5].page_content))"
   ]
  },
  {
   "cell_type": "code",
   "execution_count": 60,
   "metadata": {},
   "outputs": [],
   "source": [
    "import re\n",
    "\n",
    "output_text = re.sub('```csv|```','',response.content)"
   ]
  },
  {
   "cell_type": "code",
   "execution_count": 66,
   "metadata": {},
   "outputs": [],
   "source": [
    "client_id = os.getenv('REDDIT_CLIENT_ID')\n",
    "secret =\tos.getenv(\"REDDIT_SECRET_KEY\")\n",
    "loader = RedditPostsLoader(\n",
    "    client_id=client_id,\n",
    "    client_secret=secret,\n",
    "    user_agent=\"extractor by u/evolving_0\",\n",
    "    categories=[\"new\", \"hot\"],  # List of categories to load posts from\n",
    "    mode=\"subreddit\",\n",
    "    search_queries=[\n",
    "        \"investing\",\n",
    "        \"wallstreetbets\",\n",
    "    ],  # List of subreddits to load posts from\n",
    "    number_posts=20,  # Default value is 10\n",
    ")"
   ]
  },
  {
   "cell_type": "code",
   "execution_count": 67,
   "metadata": {},
   "outputs": [],
   "source": [
    "documents = loader.load()"
   ]
  },
  {
   "cell_type": "code",
   "execution_count": 68,
   "metadata": {},
   "outputs": [
    {
     "data": {
      "text/plain": [
       "[Document(metadata={'post_subreddit': 'r/investing', 'post_category': 'new', 'post_title': 'Leaving Edward Jones and still getting screwed by them', 'post_score': 3, 'post_id': '1egkp7w', 'post_url': 'https://www.reddit.com/r/investing/comments/1egkp7w/leaving_edward_jones_and_still_getting_screwed_by/', 'post_author': Redditor(name='flexmentallo213')}, page_content=\"I am in the process of switching over an inherited brokerage account from fast eddie over to Fidelity. EJ today has charged me another program and portfolio strategy fee just 24 days after the last absurd monthly charge. I will be calling them once they open this morning asking for this to be refunded and to make sure there useless service is cancelled\\nI'm not finding anywhere they state they can do this in their documents. Are they legally allowed to do this? Any insight into this shady practice would be helpful\"),\n",
       " Document(metadata={'post_subreddit': 'r/investing', 'post_category': 'new', 'post_title': 'contributed to Roth, and withdrew 1/2 of contribution in same year, does that withdrawal count toward contribution?', 'post_score': 0, 'post_id': '1egkcvk', 'post_url': 'https://www.reddit.com/r/investing/comments/1egkcvk/contributed_to_roth_and_withdrew_12_of/', 'post_author': Redditor(name='TimeGrifter')}, page_content=\"So let's say I contributed 7k max yearly to my Roth, but had an emergency and withdrew 1/2 that contributed amount... Does that with drawl still count toward my max yearly contribution or can I put that amount back now that I have saved it back up ... ?  Just wondering if once money is contributed to an account if that counts toward the yearly total if it's withdrawn?\"),\n",
       " Document(metadata={'post_subreddit': 'r/investing', 'post_category': 'new', 'post_title': 'Does QQQM always outperform VOO in the long-term?', 'post_score': 0, 'post_id': '1egjyo6', 'post_url': 'https://www.reddit.com/r/investing/comments/1egjyo6/does_qqqm_always_outperform_voo_in_the_longterm/', 'post_author': Redditor(name='CyanAxolotl')}, page_content='Hey guys, I have a good question: does QQQM always outperform VOO in the long-term? From what I’ve gathered by looking at charts, that answer is a yes. I also think tech is the future, and with the recent pull-back, do you guys think QQQM will outperform VOO for many years to come? Why or why not? I’m looking forward to reading your responses.'),\n",
       " Document(metadata={'post_subreddit': 'r/investing', 'post_category': 'new', 'post_title': 'Daily General Discussion and Advice Thread - July 31, 2024', 'post_score': 2, 'post_id': '1egifwo', 'post_url': 'https://www.reddit.com/r/investing/comments/1egifwo/daily_general_discussion_and_advice_thread_july/', 'post_author': Redditor(name='AutoModerator')}, page_content='Have a general question?  Want to offer some commentary on markets?  Maybe you would just like to throw out a neat fact that doesn\\'t warrant a self post?  Feel free to post here! \\n\\nIf your question is \"I have $10,000, what do I do?\" or other \"advice for my personal situation\" questions, you should include relevant information, such as the following:\\n\\n* How old are you? What country do you live in?  \\n* Are you employed/making income? How much?  \\n* What are your objectives with this money? (Buy a house? Retirement savings?)  \\n* What is your time horizon? Do you need this money next month? Next 20yrs?  \\n* What is your risk tolerance? (Do you mind risking it at blackjack or do you need to know its 100% safe?)  \\n* What are you current holdings? (Do you already have exposure to specific funds and sectors? Any other assets?)  \\n* Any big debts (include interest rate) or expenses?  \\n* And any other relevant financial information will be useful to give you a proper answer.  \\n\\nPlease consider consulting our FAQ first - https://www.reddit.com/r/investing/wiki/faq\\nAnd our [side bar](https://www.reddit.com/r/investing/about/sidebar) also has useful resources.  \\n\\nIf you are new to investing - please refer to Wiki - [Getting Started](https://www.reddit.com/r/investing/wiki/index/gettingstarted/)\\n\\nThe reading list in the wiki has a list of books ranging from light reading to advanced topics depending on your knowledge level. Link here - [Reading List](https://www.reddit.com/r/investing/wiki/readinglist)\\n\\nCheck the resources in the sidebar.\\n\\nBe aware that these answers are just opinions of Redditors and should be used as a starting point for your research. You should strongly consider seeing a registered investment adviser if you need professional support before making any financial decisions!'),\n",
       " Document(metadata={'post_subreddit': 'r/investing', 'post_category': 'new', 'post_title': 'Cryptography as a modern bait of investment scams', 'post_score': 0, 'post_id': '1egfxxt', 'post_url': 'https://www.reddit.com/r/investing/comments/1egfxxt/cryptography_as_a_modern_bait_of_investment_scams/', 'post_author': Redditor(name='OddNefariousness5993')}, page_content=\"Scamming means tricking people to get their money. People won't just give their money to others. If you approach a random person and ask them $100K they would say you're crazy. That's why a bait is needed. Something to trick people. Charles Ponzi used postal coupons for that purpose. Bernie Madoff used a split-strike conversion strategy. And today's scammers use cryptography.\\n\\nHow does that bait work? Scammers first come up with a cryptographic system that shows numbers on the screen. They then claim that these numbers are money. Because nowadays, money, that is fiat money, is just numbers - either on bank accounts or banknotes. So, because their systems show numbers just like banking systems, scammers claim to have invented money. Finally, they claim that their money is better than fiat money because numbers are cryptographically protected and stored in decentralized databases, while the number holders are anonymous. Banks, on the other hand, store their numbers on paper(on banknotes) or in centralized databases, with the number holders being identified by real names.\\n\\nOnce the bait is set, and the scammers have initially and anonymously 'mined' large numbers with negligible electricity cost, they start spreading propaganda about the revolutionary money of the future. And so people start investing fiat money or useful items - goods, services, etc. However, what the scammers won't tell, is that their systems don't return useful items to number holders. That's the crux of the scams because banks do return useful items. And that's essentially what the scammers want. They want goods, services, labor, real estate, the ability to pay taxes, etc. Because there's no benefit in watching numbers.\\n\\nHow do banks return useful items to number holders? By issuing numbers as debt. A new bank deposit, i.e. a number on a bank account, is created when a commercial bank issues a loan or a central bank subscribes to a government bond. Of course, when that number is paid out in banknotes, nothing essentially changes. It still represents debt but is written on paper instead of on the screen. Once the numbers are created that way, debtors trade them in the market for labor, goods, services and other useful items. However, since they represent debt towards the banks, debtors need the numbers back. That is why they are forced to sell useful items to those who hold the numbers.\\n\\nIf debtors don't sell useful items to number holders they will default on their loans. Then, the collaterals will be activated and the banks will sell debtors' property at auctions. Who will have access to these auctions? Well, the holders of bank-issued numbers. Since the banks issued these numbers as debt, they must accept them to liquidate the unpaid debt. Finally, because governments issue bonds denominated in bank-issued numbers, they must accept these numbers as payment for taxes. Otherwise, they cannot pay off their bonds. That is, therefore, how the banks return goods, services, labor, real estate, the ability to pay taxes, and other useful items to number holders.\\n\\nCryptosystems don't have such a return mechanism. After people join a cryptosystem by investing useful items or fiat money, and get numbers on the screen, the only way they can return their investments is if new investors enter the system. So, just like in the schemes organized by Charles Ponzi or Bernie Madoff. Regardless if they invested tons of electricity through 'mining', cars, houses, years of labor, millions of dollars, whatever, cryptosystems can't help them at all. Without new investors, they cannot get anything back.\\n\\nThat's why whenever someone creates a cryptocurrency what they actually created is bait. A bait to attract investors and get fiat money or useful items. By holding fiat money the scammer is in a system that ensures the return of useful items. While victims are left in cryptosystems where they depend on new investors. If new investors stop coming, there is no way for the victims to get their investments back. In other words, there's no equity or business activity like in stocks and there's no debt like in fiat money to serve as a source for returning investments. There are only the contributions of new investors.\\n\\nAnd that is how the bait of cryptography is used in today's investment scams. That bait is so good that it tricked even some governments and institutional investors, which has never been seen before. What has also never been seen is that the victims defend the scammers and talk only positively about the bait. But this is understandable as they must attract new investors to save themselves from being the bag holders.\")]"
      ]
     },
     "execution_count": 68,
     "metadata": {},
     "output_type": "execute_result"
    }
   ],
   "source": [
    "documents[:5]"
   ]
  },
  {
   "cell_type": "code",
   "execution_count": 6,
   "metadata": {},
   "outputs": [],
   "source": [
    "# Or load from access token and consumer keys\n",
    "# loader = TwitterTweetLoader.from_secrets(\n",
    "#     access_token=os.getenv(\"TWITTER_ACCESS_TOKEN\"),\n",
    "#     access_token_secret=os.getenv(\"TWITTER_ACCESS_TOKEN_SECRET\"),\n",
    "#     consumer_key=os.getenv(\"TWITTER_API_KEY\"),\n",
    "#     consumer_secret=os.getenv(\"TWITTER_API_KEY_SECRET\"),\n",
    "#     twitter_users=['elonmusk'],\n",
    "#     number_tweets=50,\n",
    "# )\n",
    "\n",
    "#Absolute shit API change by twitter"
   ]
  },
  {
   "cell_type": "code",
   "execution_count": 2,
   "metadata": {},
   "outputs": [],
   "source": [
    "loader = YoutubeLoader.from_youtube_url(\n",
    "    \"https://www.youtube.com/watch?v=QsYGlZkevEg\", add_video_info=False\n",
    ")"
   ]
  },
  {
   "cell_type": "code",
   "execution_count": 3,
   "metadata": {},
   "outputs": [],
   "source": [
    "doc = loader.load()"
   ]
  },
  {
   "cell_type": "code",
   "execution_count": 5,
   "metadata": {},
   "outputs": [
    {
     "name": "stdout",
     "output_type": "stream",
     "text": [
      "LADIES AND GENTLEMEN, PEDRO PASCAL! [ CHEERS AND APPLAUSE ] >> THANK YOU, THANK YOU. THANK YOU VERY MUCH. I'M SO EXCITED TO BE HERE. THANK YOU. I SPENT THE LAST YEAR SHOOTING A SHOW CALLED \"THE LAST OF US\" ON HBO. FOR SOME HBO SHOES, YOU GET TO SHOOT IN A FIVE STAR ITALIAN RESORT SURROUNDED BY BEAUTIFUL PEOPLE, BUT I SAID, NO, THAT'S TOO EASY. I WANT TO SHOOT IN A FREEZING CANADIAN FOREST WHILE BEING CHASED AROUND BY A GUY WHOSE HEAD LOOKS LIKE A GENITAL WART. IT IS AN HONOR BEING A PART OF THESE HUGE FRANCHISEs LIKE \"GAME OF THRONES\" AND \"STAR WARS,\" BUT I'M STILL GETTING USED TO PEOPLE RECOGNIZING ME. THE OTHER DAY, A GUY STOPPED ME ON THE STREET AND SAYS, MY SON LOVES \"THE MANDALORIAN\" AND THE NEXT THING I KNOW, I'M FACE TIMING WITH A 6-YEAR-OLD WHO HAS NO IDEA WHO I AM BECAUSE MY CHARACTER WEARS A MASK THE ENTIRE SHOW. THE GUY IS LIKE, DO THE MANDO VOICE, BUT IT'S LIKE A BEDROOM VOICE. WITHOUT THE MASK, IT JUST SOUNDS PORNY. PEOPLE WALKING BY ON THE STREET SEE ME WHISPERING TO A 6-YEAR-OLD KID. I CAN BRING YOU IN WARM, OR I CAN BRING YOU IN COLD. EVEN THOUGH I CAME TO THE U.S. WHEN I WAS LITTLE, I WAS BORN IN CHILE, AND I HAVE 34 FIRST COUSINS WHO ARE STILL THERE. THEY'RE VERY PROUD OF ME. I KNOW THEY'RE PROUD BECAUSE THEY GIVE MY PHONE NUMBER TO EVERY PERSON THEY MEET, WHICH MEANS EVERY DAY, SOMEONE IN SANTIAGO WILL TEXT ME STUFF LIKE, CAN YOU COME TO MY WEDDING, OR CAN YOU SING MY PRIEST HAPPY BIRTHDAY, OR IS BABY YODA MEAN IN REAL LIFE. SO I HAVE TO BE LIKE NO, NO, AND HIS NAME IS GROGU. BUT MY COUSINS WEREN'T ALWAYS SO PROUD. EARLY IN MY CAREER, I PLAYED SMALL PARTS IN EVERY CRIME SHOW. I EVEN PLAYED TWO DIFFERENT CHARACTERS ON \"LAW AND ORDER.\" TITO CABASSA WHO LOOKED LIKE THIS. AND ONE YEAR LATER, I PLAYED REGGIE LUCKMAN WHO LOOKS LIKE THIS. AND THAT, MY FRIENDS, IS CALLED RANGE. BUT IT IS AMAZING TO BE HERE, LIKE I SAID. I WAS BORN IN CHILE, AND NINE MONTHS LATER, MY PARENTS FLED AND BROUGHT ME AND MY SISTER TO THE U.S. THEY WERE SO BRAVE, AND WITHOUT THEM, I WOULDN'T BE HERE IN THIS WONDERFUL COUNTRY, AND I CERTAINLY WOULDN'T BE STANDING HERE WITH YOU ALL TONIGHT. SO TO ALL MY FAMILY WATCHING IN CHILE, I WANT TO SAY [ SPEAKING NON-ENGLISH ] WHICH MEANS, I LOVE YOU, I MISS YOU, AND STOP GIVING OUT MY PHONE NUMBER. WE'VE GOT AN AMAZING SHOW FOR YOU TONIGHT. COLDPLAY IS HERE, SO STICK\n"
     ]
    }
   ],
   "source": [
    "print(doc[0].page_content)"
   ]
  },
  {
   "cell_type": "code",
   "execution_count": 7,
   "metadata": {},
   "outputs": [
    {
     "name": "stderr",
     "output_type": "stream",
     "text": [
      "Problem reading geckodriver versions: error sending request for url (https://raw.githubusercontent.com/SeleniumHQ/selenium/trunk/common/geckodriver/geckodriver-support.json). Using latest geckodriver version\n"
     ]
    }
   ],
   "source": [
    "\n",
    "urls = [\n",
    "    \"https://www.youtube.com/watch?v=dQw4w9WgXcQ\"\n",
    "]\n",
    "\n",
    "loader = SeleniumURLLoader(urls=urls,browser='firefox')\n",
    "\n",
    "data = loader.load()"
   ]
  },
  {
   "cell_type": "code",
   "execution_count": null,
   "metadata": {},
   "outputs": [],
   "source": []
  }
 ],
 "metadata": {
  "kernelspec": {
   "display_name": "nlp",
   "language": "python",
   "name": "python3"
  },
  "language_info": {
   "codemirror_mode": {
    "name": "ipython",
    "version": 3
   },
   "file_extension": ".py",
   "mimetype": "text/x-python",
   "name": "python",
   "nbconvert_exporter": "python",
   "pygments_lexer": "ipython3",
   "version": "3.11.9"
  },
  "orig_nbformat": 4
 },
 "nbformat": 4,
 "nbformat_minor": 2
}
