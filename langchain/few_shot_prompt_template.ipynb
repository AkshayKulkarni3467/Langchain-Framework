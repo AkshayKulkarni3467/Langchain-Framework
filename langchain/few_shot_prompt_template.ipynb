{
 "cells": [
  {
   "cell_type": "code",
   "execution_count": 57,
   "metadata": {},
   "outputs": [],
   "source": [
    "from langchain_core.prompts.few_shot import FewShotPromptTemplate\n",
    "from langchain_core.prompts.prompt import PromptTemplate"
   ]
  },
  {
   "cell_type": "code",
   "execution_count": 58,
   "metadata": {},
   "outputs": [],
   "source": [
    "my_examples = [\n",
    "    {\n",
    "        'value' : '5',\n",
    "        'formula' : 'x+x',\n",
    "        'output' : '10'\n",
    "    },\n",
    "    {\n",
    "        'value' : '13',\n",
    "        'formula' : '4*x',\n",
    "        'output' : '52'\n",
    "    },\n",
    "    {\n",
    "        'value' : '34',\n",
    "        'formula' : 'x-3',\n",
    "        'output' : '31'\n",
    "    }\n",
    "]\n"
   ]
  },
  {
   "cell_type": "code",
   "execution_count": 59,
   "metadata": {},
   "outputs": [],
   "source": [
    "example_prompt = PromptTemplate(\n",
    "    input_variables=[\"value\", \"formula\"], template=\"Value : {value} Formula : {formula}\\nOutput : {output}\"\n",
    ")"
   ]
  },
  {
   "cell_type": "code",
   "execution_count": 66,
   "metadata": {},
   "outputs": [],
   "source": [
    "prompt = FewShotPromptTemplate(\n",
    "    examples=my_examples,\n",
    "    example_prompt=example_prompt,\n",
    "    prefix='You are a calculator. You will just return a single value in the output',\n",
    "    suffix=\"Value: {value} Formula : {formula}\",\n",
    "    input_variables=[\"value\",\"formula\"],\n",
    ")\n",
    "\n",
    "\n"
   ]
  },
  {
   "cell_type": "code",
   "execution_count": 61,
   "metadata": {},
   "outputs": [],
   "source": [
    "from langchain_groq import ChatGroq\n",
    "import os"
   ]
  },
  {
   "cell_type": "code",
   "execution_count": 73,
   "metadata": {},
   "outputs": [],
   "source": [
    "llm = ChatGroq(api_key=os.getenv('GROQ_API_KEY'),model='mixtral-8x7b-32768')"
   ]
  },
  {
   "cell_type": "code",
   "execution_count": 76,
   "metadata": {},
   "outputs": [],
   "source": [
    "response = llm.invoke(prompt.format(value='4',formula='x-14'))\n",
    "# response = llm.invoke(prompt.format(input=\"Who was the father of Mary Ball Washington?\"))"
   ]
  },
  {
   "cell_type": "code",
   "execution_count": 77,
   "metadata": {},
   "outputs": [
    {
     "name": "stdout",
     "output_type": "stream",
     "text": [
      "content='-10' response_metadata={'token_usage': {'completion_tokens': 3, 'prompt_tokens': 79, 'total_tokens': 82, 'completion_time': 0.004, 'prompt_time': 0.023703546, 'queue_time': None, 'total_time': 0.027703546}, 'model_name': 'llama-3.1-8b-instant', 'system_fingerprint': 'fp_9cb648b966', 'finish_reason': 'stop', 'logprobs': None} id='run-bb206c41-5bcc-438e-9b84-fd6620a57d13-0' usage_metadata={'input_tokens': 79, 'output_tokens': 3, 'total_tokens': 82}\n"
     ]
    }
   ],
   "source": [
    "print(response)"
   ]
  }
 ],
 "metadata": {
  "kernelspec": {
   "display_name": "nlp",
   "language": "python",
   "name": "python3"
  },
  "language_info": {
   "codemirror_mode": {
    "name": "ipython",
    "version": 3
   },
   "file_extension": ".py",
   "mimetype": "text/x-python",
   "name": "python",
   "nbconvert_exporter": "python",
   "pygments_lexer": "ipython3",
   "version": "3.11.9"
  },
  "orig_nbformat": 4
 },
 "nbformat": 4,
 "nbformat_minor": 2
}
