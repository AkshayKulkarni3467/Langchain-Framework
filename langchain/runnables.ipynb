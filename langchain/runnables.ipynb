{
 "cells": [
  {
   "cell_type": "code",
   "execution_count": 1,
   "metadata": {},
   "outputs": [
    {
     "name": "stdout",
     "output_type": "stream",
     "text": [
      "8\n"
     ]
    }
   ],
   "source": [
    "from langchain_core.runnables import RunnableLambda\n",
    "\n",
    "\n",
    "def function1(x):\n",
    "    \n",
    "    return f'{x+1} output of the first one'\n",
    "\n",
    "def function2(x):\n",
    "    return x.split(' ')\n",
    "\n",
    "\n",
    "chain = RunnableLambda(function1) | RunnableLambda(function2) | RunnableLambda(lambda x:int(x[0])) | RunnableLambda(lambda x : x**3)\n",
    "\n",
    "print(chain.invoke(1))"
   ]
  },
  {
   "cell_type": "code",
   "execution_count": 2,
   "metadata": {},
   "outputs": [
    {
     "name": "stdout",
     "output_type": "stream",
     "text": [
      "{'title': 'function1_input'} {'title': 'RunnableLambdaOutput'}\n"
     ]
    }
   ],
   "source": [
    "print(chain.input_schema.schema(),chain.output_schema.schema())"
   ]
  },
  {
   "cell_type": "code",
   "execution_count": 3,
   "metadata": {},
   "outputs": [
    {
     "name": "stdout",
     "output_type": "stream",
     "text": [
      "bound=RunnableLambda(function1)\n",
      "| RunnableLambda(function2)\n",
      "| RunnableLambda(...)\n",
      "| RunnableLambda(...)\n"
     ]
    }
   ],
   "source": [
    "print(chain.bind())"
   ]
  },
  {
   "cell_type": "code",
   "execution_count": 4,
   "metadata": {},
   "outputs": [
    {
     "name": "stdout",
     "output_type": "stream",
     "text": [
      "Graph(nodes={'885151c960d245f580d786e287413401': Node(id='885151c960d245f580d786e287413401', name='function1_input', data=<class 'pydantic.v1.main.function1_input'>, metadata=None), 'd74e8dfb0db54e9a899280a4e74dd2a5': Node(id='d74e8dfb0db54e9a899280a4e74dd2a5', name='function1', data=RunnableLambda(function1), metadata=None), 'a596ecf35742430e9fd2e7350c8f9443': Node(id='a596ecf35742430e9fd2e7350c8f9443', name='function2', data=RunnableLambda(function2), metadata=None), '74d0d5f7e2e54bb0a0ddd5ce2e82f9ac': Node(id='74d0d5f7e2e54bb0a0ddd5ce2e82f9ac', name='Lambda', data=RunnableLambda(...), metadata=None), 'd501293375b84210be91a28f70fa36e7': Node(id='d501293375b84210be91a28f70fa36e7', name='Lambda', data=RunnableLambda(...), metadata=None), '1a2cef94b4ba48edbb1fa605f98c305e': Node(id='1a2cef94b4ba48edbb1fa605f98c305e', name='LambdaOutput', data=<class 'pydantic.v1.main.RunnableLambdaOutput'>, metadata=None)}, edges=[Edge(source='885151c960d245f580d786e287413401', target='d74e8dfb0db54e9a899280a4e74dd2a5', data=None, conditional=False), Edge(source='d74e8dfb0db54e9a899280a4e74dd2a5', target='a596ecf35742430e9fd2e7350c8f9443', data=None, conditional=False), Edge(source='a596ecf35742430e9fd2e7350c8f9443', target='74d0d5f7e2e54bb0a0ddd5ce2e82f9ac', data=None, conditional=False), Edge(source='d501293375b84210be91a28f70fa36e7', target='1a2cef94b4ba48edbb1fa605f98c305e', data=None, conditional=False), Edge(source='74d0d5f7e2e54bb0a0ddd5ce2e82f9ac', target='d501293375b84210be91a28f70fa36e7', data=None, conditional=False)])\n"
     ]
    }
   ],
   "source": [
    "print(chain.get_graph())"
   ]
  },
  {
   "cell_type": "code",
   "execution_count": 5,
   "metadata": {},
   "outputs": [
    {
     "data": {
      "text/plain": [
       "11"
      ]
     },
     "execution_count": 5,
     "metadata": {},
     "output_type": "execute_result"
    }
   ],
   "source": [
    "chain.pipe(RunnableLambda(lambda x:x+3)).invoke(1)"
   ]
  }
 ],
 "metadata": {
  "kernelspec": {
   "display_name": "nlp",
   "language": "python",
   "name": "python3"
  },
  "language_info": {
   "codemirror_mode": {
    "name": "ipython",
    "version": 3
   },
   "file_extension": ".py",
   "mimetype": "text/x-python",
   "name": "python",
   "nbconvert_exporter": "python",
   "pygments_lexer": "ipython3",
   "version": "3.11.9"
  },
  "orig_nbformat": 4
 },
 "nbformat": 4,
 "nbformat_minor": 2
}
