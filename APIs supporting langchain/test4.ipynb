{
 "cells": [
  {
   "cell_type": "code",
   "execution_count": 1,
   "metadata": {},
   "outputs": [],
   "source": [
    "from langchain_fireworks import ChatFireworks\n",
    "import os"
   ]
  },
  {
   "cell_type": "code",
   "execution_count": 6,
   "metadata": {},
   "outputs": [],
   "source": [
    "model = ChatFireworks(api_key=os.getenv(\"FIREWORKS_API_KEY\"),model=\"accounts/fireworks/models/llama-v3p1-405b-instruct\",max_tokens=20)"
   ]
  },
  {
   "cell_type": "code",
   "execution_count": 7,
   "metadata": {},
   "outputs": [],
   "source": [
    "from langchain_core.messages import HumanMessage\n",
    "\n",
    "response = model.invoke([HumanMessage(content=('Tell me a dark humor joke'))])"
   ]
  },
  {
   "cell_type": "code",
   "execution_count": 8,
   "metadata": {},
   "outputs": [
    {
     "name": "stdout",
     "output_type": "stream",
     "text": [
      "content=\"You want to indulge in some morbid humor, do you? Alright, here's one:\\n\\nWhy\" response_metadata={'token_usage': {'prompt_tokens': 15, 'total_tokens': 35, 'completion_tokens': 20}, 'model_name': 'accounts/fireworks/models/llama-v3p1-405b-instruct', 'system_fingerprint': '', 'finish_reason': 'length', 'logprobs': None} id='run-5868ddec-15b3-4c04-bb8c-53f2b87887fd-0' usage_metadata={'input_tokens': 15, 'output_tokens': 20, 'total_tokens': 35}\n"
     ]
    }
   ],
   "source": [
    "print(response)"
   ]
  }
 ],
 "metadata": {
  "kernelspec": {
   "display_name": "nlp",
   "language": "python",
   "name": "python3"
  },
  "language_info": {
   "codemirror_mode": {
    "name": "ipython",
    "version": 3
   },
   "file_extension": ".py",
   "mimetype": "text/x-python",
   "name": "python",
   "nbconvert_exporter": "python",
   "pygments_lexer": "ipython3",
   "version": "3.11.9"
  },
  "orig_nbformat": 4
 },
 "nbformat": 4,
 "nbformat_minor": 2
}
